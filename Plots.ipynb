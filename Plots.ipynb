{
 "cells": [
  {
   "cell_type": "markdown",
   "metadata": {},
   "source": [
    "Some place to construct plots"
   ]
  },
  {
   "cell_type": "code",
   "execution_count": 54,
   "metadata": {
    "collapsed": false,
    "scrolled": false
   },
   "outputs": [
    {
     "name": "stdout",
     "output_type": "stream",
     "text": [
      "Extracting MNIST_data/train-images-idx3-ubyte.gz\n",
      "Extracting MNIST_data/train-labels-idx1-ubyte.gz\n",
      "Extracting MNIST_data/t10k-images-idx3-ubyte.gz\n",
      "Extracting MNIST_data/t10k-labels-idx1-ubyte.gz\n"
     ]
    }
   ],
   "source": [
    "import tensorflow as tf\n",
    "import numpy as np\n",
    "%matplotlib inline\n",
    "import matplotlib.pyplot as plt\n",
    "from functools import *\n",
    "import time\n",
    "from tensorflow.examples.tutorials.mnist import input_data\n",
    "#onehot means a vector is 1 in a single dimension and 0 in every other\n",
    "mnist = input_data.read_data_sets(\"MNIST_data/\", one_hot=True)\n",
    "sess = tf.InteractiveSession()"
   ]
  },
  {
   "cell_type": "code",
   "execution_count": 20,
   "metadata": {
    "collapsed": false
   },
   "outputs": [],
   "source": [
    "n_inputs = 784\n",
    "n_classes = 10\n",
    "epochs = 1\n",
    "batch_sizes = (5000,2000,1000,500,250,100,50,25,10)\n",
    "\n",
    "array_accuracy=[[0 for _ in batch_sizes] for _ in range(5)]\n",
    "array_time=[[0 for _ in batch_sizes] for _ in range(5)]\n",
    "a = 0\n",
    "b = 0\n",
    "\n",
    "x = tf.placeholder('float', [None, n_inputs])\n",
    "y = tf.placeholder('float',[None, 10])\n",
    "\n",
    "\n",
    "weights = {\n",
    "    'wc1': tf.Variable(tf.random_normal([5, 5, 1, 32])),\n",
    "    'wc2': tf.Variable(tf.random_normal([5, 5, 32, 64])),\n",
    "    'wd1': tf.Variable(tf.random_normal([7*7*64, 1024])),\n",
    "    'out': tf.Variable(tf.random_normal([1024, n_classes]))\n",
    "}\n",
    "\n",
    "biases = {\n",
    "    'bc1': tf.Variable(tf.random_normal([32])),\n",
    "    'bc2': tf.Variable(tf.random_normal([64])),\n",
    "    'bd1': tf.Variable(tf.random_normal([1024])),\n",
    "    'out': tf.Variable(tf.random_normal([n_classes]))\n",
    "}"
   ]
  },
  {
   "cell_type": "code",
   "execution_count": 21,
   "metadata": {
    "collapsed": true
   },
   "outputs": [],
   "source": [
    "def maxpool2d(x, k=2):\n",
    "    return tf.nn.max_pool(x, ksize=[1, k, k, 1], strides=[1, k, k, 1],\n",
    "                          padding='SAME')"
   ]
  },
  {
   "cell_type": "code",
   "execution_count": 22,
   "metadata": {
    "collapsed": true
   },
   "outputs": [],
   "source": [
    "def conv2d(x, W, b, k=1):\n",
    "    x = tf.nn.conv2d(x, W, strides=[1, k, k, 1] , padding='SAME')\n",
    "    x = tf.nn.bias_add(x, b)\n",
    "    return tf.nn.relu(x)"
   ]
  },
  {
   "cell_type": "code",
   "execution_count": 23,
   "metadata": {
    "collapsed": true
   },
   "outputs": [],
   "source": [
    "def conv_neural_net(x, weights, biases):\n",
    "    # Reshape input picture\n",
    "    x = tf.reshape(x, shape=[-1, 28, 28, 1])\n",
    "\n",
    "    # Convolution 1\n",
    "    conv1 = conv2d(x, weights['wc1'], biases['bc1'])\n",
    "    \n",
    "    # Pooling 1\n",
    "    conv1 = maxpool2d(conv1, k=2)\n",
    "\n",
    "    # Convolution 2\n",
    "    conv2 = conv2d(conv1, weights['wc2'], biases['bc2'])\n",
    "    \n",
    "    # Pooling 2\n",
    "    conv2 = maxpool2d(conv2, k=2)\n",
    "\n",
    "    # Fully connected layer\n",
    "    # Reshape conv2 output to fit fully connected layer input\n",
    "    fc1 = tf.reshape(conv2, [-1, weights['wd1'].get_shape().as_list()[0]])\n",
    "    fc1 = tf.add(tf.matmul(fc1, weights['wd1']), biases['bd1'])\n",
    "    fc1 = tf.nn.relu(fc1)\n",
    "\n",
    "    # Output, class prediction\n",
    "    out = tf.add(tf.matmul(fc1, weights['out']), biases['out'])\n",
    "\n",
    "    return out"
   ]
  },
  {
   "cell_type": "code",
   "execution_count": 24,
   "metadata": {
    "collapsed": true
   },
   "outputs": [],
   "source": [
    "def train_and_test_conv_neural_net(x, y, weights, biases, epochs = 1):\n",
    "    \n",
    "    pred = conv_neural_net(x, weights, biases)\n",
    "    cost = tf.reduce_mean(tf.nn.softmax_cross_entropy_with_logits(pred,y))\n",
    "    opt = tf.train.AdamOptimizer().minimize(cost)\n",
    "    \n",
    "    with tf.Session() as sess:\n",
    "        sess.run(tf.initialize_all_variables())\n",
    "        for e in range(epochs):\n",
    "            epoch_loss = 0\n",
    "            for i in range(int(mnist.train.num_examples/batch_size)):\n",
    "                epoch_x, epoch_y = mnist.train.next_batch(batch_size)\n",
    "                _, c = sess.run([opt, cost], \n",
    "                                feed_dict = {x:epoch_x, y:epoch_y})\n",
    "                epoch_loss = epoch_loss + c\n",
    "            correct = tf.equal(tf.argmax(pred,1), tf.argmax(y,1))\n",
    "            accuracy = tf.reduce_mean(tf.cast(correct, 'float'))\n",
    "            array_accuracy[b][a] = accuracy.eval({x:mnist.test.images, \n",
    "                                                y:mnist.test.labels})\n",
    "\n",
    "        print( 'Training finished!'  )"
   ]
  },
  {
   "cell_type": "code",
   "execution_count": 25,
   "metadata": {
    "collapsed": false
   },
   "outputs": [
    {
     "name": "stdout",
     "output_type": "stream",
     "text": [
      "Training finished!\n",
      "Training finished!\n",
      "Training finished!\n",
      "Training finished!\n",
      "Training finished!\n",
      "Training finished!\n",
      "Training finished!\n",
      "Training finished!\n",
      "Training finished!\n",
      "Training finished!\n",
      "Training finished!\n",
      "Training finished!\n",
      "Training finished!\n",
      "Training finished!\n",
      "Training finished!\n",
      "Training finished!\n",
      "Training finished!\n",
      "Training finished!\n",
      "Training finished!\n",
      "Training finished!\n",
      "Training finished!\n",
      "Training finished!\n",
      "Training finished!\n",
      "Training finished!\n",
      "Training finished!\n",
      "Training finished!\n",
      "Training finished!\n",
      "Training finished!\n",
      "Training finished!\n",
      "Training finished!\n",
      "Training finished!\n",
      "Training finished!\n",
      "Training finished!\n",
      "Training finished!\n",
      "Training finished!\n",
      "Training finished!\n",
      "Training finished!\n",
      "Training finished!\n",
      "Training finished!\n",
      "Training finished!\n",
      "Training finished!\n",
      "Training finished!\n",
      "Training finished!\n",
      "Training finished!\n",
      "Training finished!\n"
     ]
    }
   ],
   "source": [
    "for l in range(5):\n",
    "    for size in batch_sizes:\n",
    "        batch_size = size\n",
    "        start_time = time.time()\n",
    "        train_and_test_conv_neural_net(x, y, weights, biases, epochs)\n",
    "        array_time[b][a] = time.time() - start_time\n",
    "        a += 1\n",
    "    a = 0\n",
    "    b += 1"
   ]
  },
  {
   "cell_type": "raw",
   "metadata": {},
   "source": [
    "Epoch 1 out of 15 / Loss: 461540.765259\n",
    "Accuracy: 0.8292\n",
    "Epoch 2 out of 15 / Loss: 77301.8178711\n",
    "Accuracy: 0.8963\n",
    "Epoch 3 out of 15 / Loss: 51055.4665527\n",
    "Accuracy: 0.9163\n",
    "Epoch 4 out of 15 / Loss: 38072.4376221\n",
    "Accuracy: 0.9293\n",
    "Epoch 5 out of 15 / Loss: 29927.1204224\n",
    "Accuracy: 0.9357\n",
    "Epoch 6 out of 15 / Loss: 24852.1389771\n",
    "Accuracy: 0.9425\n",
    "Epoch 7 out of 15 / Loss: 20699.0461731\n",
    "Accuracy: 0.9469\n",
    "Epoch 8 out of 15 / Loss: 17279.0354462\n",
    "Accuracy: 0.9489\n",
    "Epoch 9 out of 15 / Loss: 14649.5371246\n",
    "Accuracy: 0.9486\n",
    "Epoch 10 out of 15 / Loss: 12823.4248734\n",
    "Accuracy: 0.9548\n",
    "Epoch 11 out of 15 / Loss: 10714.4607086\n",
    "Accuracy: 0.9577\n",
    "Epoch 12 out of 15 / Loss: 9304.32342148\n",
    "Accuracy: 0.9573\n",
    "Epoch 13 out of 15 / Loss: 8003.11439896\n",
    "Accuracy: 0.9583\n",
    "Epoch 14 out of 15 / Loss: 7117.55636978\n",
    "Accuracy: 0.9575\n",
    "Epoch 15 out of 15 / Loss: 5990.09892654\n",
    "Accuracy: 0.9608\n",
    "Training finished!\n",
    "Time: 1219.518548965454\n",
    "Epoch 1 out of 15 / Loss: 599384.825073\n",
    "Accuracy: 0.8796\n",
    "Epoch 2 out of 15 / Loss: 119275.371307\n",
    "Accuracy: 0.923\n",
    "Epoch 3 out of 15 / Loss: 75025.3465576\n",
    "Accuracy: 0.9409\n",
    "Epoch 4 out of 15 / Loss: 53657.673996\n",
    "Accuracy: 0.945\n",
    "Epoch 5 out of 15 / Loss: 40831.2781754\n",
    "Accuracy: 0.9575\n",
    "Epoch 6 out of 15 / Loss: 31575.9991226\n",
    "Accuracy: 0.9579\n",
    "Epoch 7 out of 15 / Loss: 25083.8752213\n",
    "Accuracy: 0.9605\n",
    "Epoch 8 out of 15 / Loss: 20481.1084366\n",
    "Accuracy: 0.9631\n",
    "Epoch 9 out of 15 / Loss: 16594.9180069\n",
    "Accuracy: 0.9658\n",
    "Epoch 10 out of 15 / Loss: 14844.6714764\n",
    "Accuracy: 0.9652\n",
    "Epoch 11 out of 15 / Loss: 11003.6511922\n",
    "Accuracy: 0.9664\n",
    "Epoch 12 out of 15 / Loss: 8757.13141078\n",
    "Accuracy: 0.9677\n",
    "Epoch 13 out of 15 / Loss: 7952.18345737\n",
    "Accuracy: 0.9715\n",
    "Epoch 14 out of 15 / Loss: 7071.48845291\n",
    "Accuracy: 0.9696\n",
    "Epoch 15 out of 15 / Loss: 5777.16337696\n",
    "Accuracy: 0.972\n",
    "Training finished!\n",
    "Time: 1207.0039155483246\n",
    "Epoch 1 out of 15 / Loss: 1406659.4184\n",
    "Accuracy: 0.9057\n",
    "Epoch 2 out of 15 / Loss: 189370.472656\n",
    "Accuracy: 0.9395\n",
    "Epoch 3 out of 15 / Loss: 116438.817444\n",
    "Accuracy: 0.9527\n",
    "Epoch 4 out of 15 / Loss: 82705.6697884\n",
    "Accuracy: 0.9591\n",
    "Epoch 5 out of 15 / Loss: 62007.464262\n",
    "Accuracy: 0.9593\n",
    "Epoch 6 out of 15 / Loss: 48737.9181261\n",
    "Accuracy: 0.9607\n",
    "Epoch 7 out of 15 / Loss: 37943.0718431\n",
    "Accuracy: 0.9683\n",
    "Epoch 8 out of 15 / Loss: 31794.0077591\n",
    "Accuracy: 0.968\n",
    "Epoch 9 out of 15 / Loss: 23749.7386972\n",
    "Accuracy: 0.9637\n",
    "Epoch 10 out of 15 / Loss: 20114.0650633\n",
    "Accuracy: 0.9713\n",
    "Epoch 11 out of 15 / Loss: 15313.4956518\n",
    "Accuracy: 0.9697\n",
    "Epoch 12 out of 15 / Loss: 15458.0576289\n",
    "Accuracy: 0.9715\n",
    "Epoch 13 out of 15 / Loss: 10827.1437322\n",
    "Accuracy: 0.9732\n",
    "Epoch 14 out of 15 / Loss: 9448.39358938\n",
    "Accuracy: 0.9744\n",
    "Epoch 15 out of 15 / Loss: 8545.91025895\n",
    "Accuracy: 0.9738\n",
    "Training finished!\n",
    "Time: 1213.86741232872\n",
    "Epoch 1 out of 15 / Loss: 1581092.2505\n",
    "Accuracy: 0.9337\n",
    "Epoch 2 out of 15 / Loss: 326788.932738\n",
    "Accuracy: 0.9469\n",
    "Epoch 3 out of 15 / Loss: 202663.547796\n",
    "Accuracy: 0.9666\n",
    "Epoch 4 out of 15 / Loss: 136020.449671\n",
    "Accuracy: 0.972\n",
    "Epoch 5 out of 15 / Loss: 98440.0866705\n",
    "Accuracy: 0.9707\n",
    "Epoch 6 out of 15 / Loss: 74822.3684732\n",
    "Accuracy: 0.9771\n",
    "Epoch 7 out of 15 / Loss: 54119.399991\n",
    "Accuracy: 0.9746\n",
    "Epoch 8 out of 15 / Loss: 43240.7367529\n",
    "Accuracy: 0.9781\n",
    "Epoch 9 out of 15 / Loss: 35636.3760858\n",
    "Accuracy: 0.9799\n",
    "Epoch 10 out of 15 / Loss: 28759.1040066\n",
    "Accuracy: 0.9782\n",
    "Epoch 11 out of 15 / Loss: 26193.2048086\n",
    "Accuracy: 0.9804\n",
    "Epoch 12 out of 15 / Loss: 20069.5545586\n",
    "Accuracy: 0.9797\n",
    "Epoch 13 out of 15 / Loss: 15431.9055558\n",
    "Accuracy: 0.9808\n",
    "Epoch 14 out of 15 / Loss: 12817.6740783\n",
    "Accuracy: 0.9789\n",
    "Epoch 15 out of 15 / Loss: 13093.4128115\n",
    "Accuracy: 0.977\n",
    "Training finished!\n",
    "Time: 1253.478951215744\n",
    "Epoch 1 out of 15 / Loss: 2101972.46701\n",
    "Accuracy: 0.9583\n",
    "Epoch 2 out of 15 / Loss: 492552.559542\n",
    "Accuracy: 0.9566\n",
    "Epoch 3 out of 15 / Loss: 282387.6404\n",
    "Accuracy: 0.9717\n",
    "Epoch 4 out of 15 / Loss: 181169.003162\n",
    "Accuracy: 0.9723\n",
    "Epoch 5 out of 15 / Loss: 111661.867693\n",
    "Accuracy: 0.9741\n",
    "Epoch 6 out of 15 / Loss: 84060.7743099\n",
    "Accuracy: 0.9717\n",
    "Epoch 7 out of 15 / Loss: 67474.5095311\n",
    "Accuracy: 0.9812\n",
    "Epoch 8 out of 15 / Loss: 48518.7095893\n",
    "Accuracy: 0.9793\n",
    "Epoch 9 out of 15 / Loss: 34039.0270462\n",
    "Accuracy: 0.9755\n",
    "Epoch 10 out of 15 / Loss: 31241.9098099\n",
    "Accuracy: 0.9831\n",
    "Epoch 11 out of 15 / Loss: 24245.8617366\n",
    "Accuracy: 0.983\n",
    "Epoch 12 out of 15 / Loss: 20981.1205843\n",
    "Accuracy: 0.9839\n",
    "Epoch 13 out of 15 / Loss: 20910.1768469\n",
    "Accuracy: 0.9856\n",
    "Epoch 14 out of 15 / Loss: 12998.9217082\n",
    "Accuracy: 0.9839\n",
    "Epoch 15 out of 15 / Loss: 14885.1884112\n",
    "Accuracy: 0.9837\n",
    "Training finished!\n",
    "Time: 1304.6248092651367\n",
    "Epoch 1 out of 15 / Loss: 3353909.13198\n",
    "Accuracy: 0.9538\n",
    "Epoch 2 out of 15 / Loss: 584303.5031\n",
    "Accuracy: 0.9689\n",
    "Epoch 3 out of 15 / Loss: 290438.866763\n",
    "Accuracy: 0.9672\n",
    "Epoch 4 out of 15 / Loss: 159658.827859\n",
    "Accuracy: 0.9776\n",
    "Epoch 5 out of 15 / Loss: 96447.3820312\n",
    "Accuracy: 0.9779\n",
    "Epoch 6 out of 15 / Loss: 63712.3990287\n",
    "Accuracy: 0.9788\n",
    "Epoch 7 out of 15 / Loss: 51714.5227332\n",
    "Accuracy: 0.9805\n",
    "Epoch 8 out of 15 / Loss: 37679.2598778\n",
    "Accuracy: 0.9836\n",
    "Epoch 9 out of 15 / Loss: 31459.4852351\n",
    "Accuracy: 0.9813\n",
    "Epoch 10 out of 15 / Loss: 32184.9157869\n",
    "Accuracy: 0.9838\n",
    "Epoch 11 out of 15 / Loss: 21051.3675467\n",
    "Accuracy: 0.9858\n",
    "Epoch 12 out of 15 / Loss: 15528.609293\n",
    "Accuracy: 0.9846\n",
    "Epoch 13 out of 15 / Loss: 18442.4306501\n",
    "Accuracy: 0.9855\n",
    "Epoch 14 out of 15 / Loss: 15645.2341425\n",
    "Accuracy: 0.9848\n",
    "Epoch 15 out of 15 / Loss: 16936.1943555\n",
    "Accuracy: 0.9816\n",
    "Training finished!\n",
    "Time: 1478.2075226306915"
   ]
  },
  {
   "cell_type": "code",
   "execution_count": 26,
   "metadata": {
    "collapsed": false
   },
   "outputs": [
    {
     "data": {
      "text/plain": [
       "[[0.4312,\n",
       "  0.61040002,\n",
       "  0.8326,\n",
       "  0.87419999,\n",
       "  0.91439998,\n",
       "  0.92989999,\n",
       "  0.95310003,\n",
       "  0.9558,\n",
       "  0.96160001],\n",
       " [0.32949999,\n",
       "  0.72780001,\n",
       "  0.84490001,\n",
       "  0.88050002,\n",
       "  0.91259998,\n",
       "  0.93550003,\n",
       "  0.94220001,\n",
       "  0.96200001,\n",
       "  0.96020001],\n",
       " [0.3053,\n",
       "  0.68339998,\n",
       "  0.79519999,\n",
       "  0.87660003,\n",
       "  0.92210001,\n",
       "  0.94330001,\n",
       "  0.95240003,\n",
       "  0.95340002,\n",
       "  0.96539998],\n",
       " [0.33230001,\n",
       "  0.6426,\n",
       "  0.85360003,\n",
       "  0.87470001,\n",
       "  0.91170001,\n",
       "  0.91360003,\n",
       "  0.94270003,\n",
       "  0.95520002,\n",
       "  0.95770001],\n",
       " [0.23639999,\n",
       "  0.51990002,\n",
       "  0.83740002,\n",
       "  0.86619997,\n",
       "  0.90670002,\n",
       "  0.93709999,\n",
       "  0.94309998,\n",
       "  0.95099998,\n",
       "  0.96240002]]"
      ]
     },
     "execution_count": 26,
     "metadata": {},
     "output_type": "execute_result"
    }
   ],
   "source": [
    "array_accuracy"
   ]
  },
  {
   "cell_type": "code",
   "execution_count": 27,
   "metadata": {
    "collapsed": false
   },
   "outputs": [
    {
     "data": {
      "text/plain": [
       "[[82.21000027656555,\n",
       "  79.604975938797,\n",
       "  80.37798643112183,\n",
       "  83.27543044090271,\n",
       "  83.47136187553406,\n",
       "  83.26164674758911,\n",
       "  86.46232509613037,\n",
       "  102.15579319000244,\n",
       "  147.96645998954773],\n",
       " [84.71645617485046,\n",
       "  82.78367066383362,\n",
       "  84.02120471000671,\n",
       "  84.00064516067505,\n",
       "  84.83685874938965,\n",
       "  86.91834688186646,\n",
       "  93.1527407169342,\n",
       "  103.63440728187561,\n",
       "  146.2051968574524],\n",
       " [85.75378108024597,\n",
       "  82.47425293922424,\n",
       "  83.4679524898529,\n",
       "  84.16710162162781,\n",
       "  82.94366407394409,\n",
       "  92.08978843688965,\n",
       "  95.05883026123047,\n",
       "  109.49555897712708,\n",
       "  154.38267350196838],\n",
       " [83.46738529205322,\n",
       "  84.72687697410583,\n",
       "  88.87265706062317,\n",
       "  86.95632028579712,\n",
       "  85.44078850746155,\n",
       "  88.76542448997498,\n",
       "  89.77668595314026,\n",
       "  108.31303215026855,\n",
       "  145.119225025177],\n",
       " [86.07509064674377,\n",
       "  86.78343796730042,\n",
       "  88.61920976638794,\n",
       "  85.91040682792664,\n",
       "  84.99673581123352,\n",
       "  91.93922257423401,\n",
       "  89.5198621749878,\n",
       "  106.33813047409058,\n",
       "  148.50794053077698]]"
      ]
     },
     "execution_count": 27,
     "metadata": {},
     "output_type": "execute_result"
    }
   ],
   "source": [
    "array_time"
   ]
  },
  {
   "cell_type": "code",
   "execution_count": 46,
   "metadata": {
    "collapsed": false
   },
   "outputs": [],
   "source": [
    "mean_accuracy=[_ for _ in range(9)]\n",
    "mean_time=[_ for _ in range(9)]\n",
    "temp1=[_ for _ in range(5)]\n",
    "temp2=[_ for _ in range(5)]\n",
    "for k in range(9):\n",
    "    for j in range(5):\n",
    "        temp1[j]=array_accuracy[j][k]\n",
    "        temp2[j]=array_time[j][k]\n",
    "    mean_accuracy[k]=np.mean(temp1)\n",
    "    mean_time[k]=np.mean(temp2)"
   ]
  },
  {
   "cell_type": "code",
   "execution_count": 47,
   "metadata": {
    "collapsed": false
   },
   "outputs": [
    {
     "data": {
      "text/plain": [
       "[0.32694,\n",
       " 0.63682002,\n",
       " 0.83274001,\n",
       " 0.87444001,\n",
       " 0.91350001,\n",
       " 0.93188,\n",
       " 0.94669998,\n",
       " 0.95547998,\n",
       " 0.96145999]"
      ]
     },
     "execution_count": 47,
     "metadata": {},
     "output_type": "execute_result"
    }
   ],
   "source": [
    "mean_accuracy"
   ]
  },
  {
   "cell_type": "code",
   "execution_count": 48,
   "metadata": {
    "collapsed": false
   },
   "outputs": [
    {
     "data": {
      "text/plain": [
       "[84.444542694091794,\n",
       " 83.274642896652225,\n",
       " 85.071802091598514,\n",
       " 84.861980867385867,\n",
       " 84.337881803512573,\n",
       " 88.59488582611084,\n",
       " 90.794088840484619,\n",
       " 105.98738441467285,\n",
       " 148.43629918098449]"
      ]
     },
     "execution_count": 48,
     "metadata": {},
     "output_type": "execute_result"
    }
   ],
   "source": [
    "mean_time"
   ]
  },
  {
   "cell_type": "code",
   "execution_count": 50,
   "metadata": {
    "collapsed": false
   },
   "outputs": [
    {
     "data": {
      "text/plain": [
       "[5000, 2000, 1000, 500, 250, 100, 50, 25, 10]"
      ]
     },
     "execution_count": 50,
     "metadata": {},
     "output_type": "execute_result"
    }
   ],
   "source": [
    "list(batch_sizes)"
   ]
  },
  {
   "cell_type": "code",
   "execution_count": 68,
   "metadata": {
    "collapsed": false
   },
   "outputs": [
    {
     "data": {
      "text/plain": [
       "[<matplotlib.text.Text at 0x7f932d7f5be0>,\n",
       " <matplotlib.text.Text at 0x7f932d7eb1d0>,\n",
       " <matplotlib.text.Text at 0x7f932d826ef0>,\n",
       " <matplotlib.text.Text at 0x7f932d7ac940>,\n",
       " <matplotlib.text.Text at 0x7f932d7b0390>,\n",
       " <matplotlib.text.Text at 0x7f932d7b0da0>,\n",
       " <matplotlib.text.Text at 0x7f932d7b47f0>,\n",
       " <matplotlib.text.Text at 0x7f932d7b8240>,\n",
       " <matplotlib.text.Text at 0x7f932d7b8c50>]"
      ]
     },
     "execution_count": 68,
     "metadata": {},
     "output_type": "execute_result"
    },
    {
     "data": {
      "image/png": "[encoded data removed]",
      "text/plain": [
       "<matplotlib.figure.Figure at 0x7f932d9c7550>"
      ]
     },
     "metadata": {},
     "output_type": "display_data"
    }
   ],
   "source": [
    "fig, ax = plt.subplots()\n",
    "ax.plot(list(batch_sizes),mean_accuracy)\n",
    "ax.set_xlabel(\"batchsize\")\n",
    "ax.set_ylabel(\"accuracy\")\n",
    "ax.set_xscale('log')\n",
    "ax.set_xticks(list(batch_sizes))\n",
    "ax.set_xticklabels(list(batch_sizes))"
   ]
  },
  {
   "cell_type": "code",
   "execution_count": 70,
   "metadata": {
    "collapsed": false
   },
   "outputs": [
    {
     "data": {
      "text/plain": [
       "[<matplotlib.text.Text at 0x7f932d6a03c8>,\n",
       " <matplotlib.text.Text at 0x7f932d68c518>,\n",
       " <matplotlib.text.Text at 0x7f932b7e2e10>,\n",
       " <matplotlib.text.Text at 0x7f932b7e6860>,\n",
       " <matplotlib.text.Text at 0x7f932b7eb2b0>,\n",
       " <matplotlib.text.Text at 0x7f932b7ebcc0>,\n",
       " <matplotlib.text.Text at 0x7f932b7ee710>,\n",
       " <matplotlib.text.Text at 0x7f932b7f2160>,\n",
       " <matplotlib.text.Text at 0x7f932b7f2b70>]"
      ]
     },
     "execution_count": 70,
     "metadata": {},
     "output_type": "execute_result"
    },
    {
     "data": {
      "image/png": "[encoded data removed]",
      "text/plain": [
       "<matplotlib.figure.Figure at 0x7f932d6e6198>"
      ]
     },
     "metadata": {},
     "output_type": "display_data"
    }
   ],
   "source": [
    "fig, ax = plt.subplots()\n",
    "ax.plot(list(batch_sizes),mean_time)\n",
    "ax.set_xlabel(\"batchsize\")\n",
    "ax.set_ylabel(\"computation time\")\n",
    "ax.set_xscale('log')\n",
    "ax.set_xticks(list(batch_sizes))\n",
    "ax.set_xticklabels(list(batch_sizes))"
   ]
  },
  {
   "cell_type": "code",
   "execution_count": 75,
   "metadata": {
    "collapsed": true
   },
   "outputs": [],
   "source": [
    "def train_and_test_conv_neural_net2(x, y, weights, biases, epochs = 1):\n",
    "    \n",
    "    pred = conv_neural_net(x, weights, biases)\n",
    "    cost = tf.reduce_mean(tf.nn.softmax_cross_entropy_with_logits(pred,y))\n",
    "    opt = tf.train.AdamOptimizer().minimize(cost)\n",
    "    \n",
    "    with tf.Session() as sess:\n",
    "        sess.run(tf.initialize_all_variables())\n",
    "        for e in range(epochs):\n",
    "            epoch_loss = 0\n",
    "            for i in range(int(mnist.train.num_examples/batch_size)):\n",
    "                epoch_x, epoch_y = mnist.train.next_batch(batch_size)\n",
    "                _, c = sess.run([opt, cost], \n",
    "                                feed_dict = {x:epoch_x, y:epoch_y})\n",
    "                epoch_loss = epoch_loss + c\n",
    "            print('Epoch ' + str(e+1) + ' out of ' + \n",
    "            str(epochs) + ' / Loss: ' + str(epoch_loss))\n",
    "            \n",
    "            correct = tf.equal(tf.argmax(pred,1), tf.argmax(y,1))\n",
    "            accuracy = tf.reduce_mean(tf.cast(correct, 'float'))\n",
    "            print('Accuracy: ' + str(accuracy.eval({x:mnist.test.images, \n",
    "                                                y:mnist.test.labels})))\n",
    "            accuracy_per_epoch[e] = accuracy.eval({x:mnist.test.images, \n",
    "                                                y:mnist.test.labels})\n",
    "\n",
    "        print( 'Training finished!'  )"
   ]
  },
  {
   "cell_type": "code",
   "execution_count": 77,
   "metadata": {
    "collapsed": false
   },
   "outputs": [
    {
     "name": "stdout",
     "output_type": "stream",
     "text": [
      "Epoch 1 out of 20 / Loss: 2218956.86021\n",
      "Accuracy: 0.9305\n",
      "Epoch 2 out of 20 / Loss: 523046.331117\n",
      "Accuracy: 0.9619\n",
      "Epoch 3 out of 20 / Loss: 296292.175006\n",
      "Accuracy: 0.971\n",
      "Epoch 4 out of 20 / Loss: 203252.725042\n",
      "Accuracy: 0.9754\n",
      "Epoch 5 out of 20 / Loss: 123716.489415\n",
      "Accuracy: 0.9809\n",
      "Epoch 6 out of 20 / Loss: 88301.1970553\n",
      "Accuracy: 0.9742\n",
      "Epoch 7 out of 20 / Loss: 64448.0180187\n",
      "Accuracy: 0.9807\n",
      "Epoch 8 out of 20 / Loss: 47410.4860574\n",
      "Accuracy: 0.9816\n",
      "Epoch 9 out of 20 / Loss: 34301.0037902\n",
      "Accuracy: 0.9814\n",
      "Epoch 10 out of 20 / Loss: 31849.4928268\n",
      "Accuracy: 0.9844\n",
      "Epoch 11 out of 20 / Loss: 27564.2912898\n",
      "Accuracy: 0.9792\n",
      "Epoch 12 out of 20 / Loss: 18866.9732575\n",
      "Accuracy: 0.9837\n",
      "Epoch 13 out of 20 / Loss: 17400.646472\n",
      "Accuracy: 0.9839\n",
      "Epoch 14 out of 20 / Loss: 17174.7338443\n",
      "Accuracy: 0.9841\n",
      "Epoch 15 out of 20 / Loss: 13868.2878279\n",
      "Accuracy: 0.9849\n",
      "Epoch 16 out of 20 / Loss: 12685.9050107\n",
      "Accuracy: 0.9827\n",
      "Epoch 17 out of 20 / Loss: 11972.4618111\n",
      "Accuracy: 0.985\n",
      "Epoch 18 out of 20 / Loss: 10606.8212139\n",
      "Accuracy: 0.9851\n",
      "Epoch 19 out of 20 / Loss: 8292.60953797\n",
      "Accuracy: 0.9841\n",
      "Epoch 20 out of 20 / Loss: 8549.33215654\n",
      "Accuracy: 0.9832\n",
      "Training finished!\n"
     ]
    }
   ],
   "source": [
    "batch_size=50\n",
    "accuracy_per_epoch = [_ for _ in range(20)]\n",
    "train_and_test_conv_neural_net2(x, y, weights, biases, 20)"
   ]
  },
  {
   "cell_type": "code",
   "execution_count": 83,
   "metadata": {
    "collapsed": false
   },
   "outputs": [
    {
     "data": {
      "text/plain": [
       "<matplotlib.text.Text at 0x7f932b2f4208>"
      ]
     },
     "execution_count": 83,
     "metadata": {},
     "output_type": "execute_result"
    },
    {
     "data": {
      "image/png": "[encoded data removed]",
      "text/plain": [
       "<matplotlib.figure.Figure at 0x7f932b2d66d8>"
      ]
     },
     "metadata": {},
     "output_type": "display_data"
    }
   ],
   "source": [
    "fig, ax = plt.subplots()\n",
    "ax.plot([_+1 for _ in range(20)],accuracy_per_epoch)\n",
    "ax.set_xlabel(\"epoch\")\n",
    "ax.set_ylabel(\"accuracy\")"
   ]
  },
  {
   "cell_type": "code",
   "execution_count": null,
   "metadata": {
    "collapsed": true
   },
   "outputs": [],
   "source": []
  }
 ],
 "metadata": {
  "kernelspec": {
   "display_name": "Python 3",
   "language": "python",
   "name": "python3"
  },
  "language_info": {
   "codemirror_mode": {
    "name": "ipython",
    "version": 3
   },
   "file_extension": ".py",
   "mimetype": "text/x-python",
   "name": "python",
   "nbconvert_exporter": "python",
   "pygments_lexer": "ipython3",
   "version": "3.5.2"
  }
 },
 "nbformat": 4,
 "nbformat_minor": 2
}
