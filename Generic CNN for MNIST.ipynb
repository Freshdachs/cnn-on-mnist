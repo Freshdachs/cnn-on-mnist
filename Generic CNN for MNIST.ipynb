{
 "cells": [
  {
   "cell_type": "markdown",
   "metadata": {},
   "source": [
    "# Generic CNN for MNIST\n",
    "The goal of this notebook ist to generalize the necessary building blocks for a CNN for our MNIST. This allows fast experimentation with different network designs. We also seek to integrate Tensorboard support for this. \n",
    "\n",
    "  Ideally it allows us to phase out all complexity related to the general purpose apis so that we only need to focus on the abstract data that actually differs between different network designs."
   ]
  },
  {
   "cell_type": "markdown",
   "metadata": {},
   "source": [
    "## Dense to one hot\n",
    "https://github.com/tensorflow/tensorflow/blob/master/tensorflow/contrib/learn/python/learn/datasets/mnist.py"
   ]
  },
  {
   "cell_type": "code",
   "execution_count": 1,
   "metadata": {
    "collapsed": true
   },
   "outputs": [],
   "source": [
    "def dense_to_one_hot(labels_dense, num_classes):\n",
    "  \"\"\"Convert class labels from scalars to one-hot vectors.\"\"\"\n",
    "  num_labels = labels_dense.shape[0]\n",
    "  index_offset = numpy.arange(num_labels) * num_classes\n",
    "  labels_one_hot = numpy.zeros((num_labels, num_classes))\n",
    "  labels_one_hot.flat[index_offset + labels_dense.ravel()] = 1\n",
    "  return labels_one_hot\n"
   ]
  },
  {
   "cell_type": "markdown",
   "metadata": {},
   "source": [
    "## First Approach\n",
    "We base our first approach on the tutorial for TensorBoard with MNIST.\n",
    "\n",
    "The original code comes from https://raw.githubusercontent.com/tensorflow/tensorflow/r0.11/tensorflow/examples/tutorials/mnist/mnist_with_summaries.py.\n",
    "\n",
    "We use it as a base to iterate on."
   ]
  },
  {
   "cell_type": "code",
   "execution_count": 1,
   "metadata": {
    "collapsed": false,
    "scrolled": true
   },
   "outputs": [
    {
     "name": "stdout",
     "output_type": "stream",
     "text": [
      "Extracting MNIST_data/train-images-idx3-ubyte.gz\n",
      "Extracting MNIST_data/train-labels-idx1-ubyte.gz\n",
      "Extracting MNIST_data/t10k-images-idx3-ubyte.gz\n",
      "Extracting MNIST_data/t10k-labels-idx1-ubyte.gz\n"
     ]
    }
   ],
   "source": [
    "import tensorflow as tf\n",
    "\n",
    "from tensorflow.examples.tutorials.mnist import input_data\n",
    "from functools import *\n",
    "from datetime import datetime\n",
    "\n",
    "mnist = input_data.read_data_sets(\"MNIST_data/\", one_hot=True)\n",
    "\n",
    "class dotdict(dict):\n",
    "    __getattr__ = dict.get\n",
    "\n",
    "\n",
    "def logdir(d,name=\"\"): \n",
    "    return \"/\".join([d, name , datetime.now().strftime(\"%Y%m%d-%H%M%S\")])\n",
    "    \n",
    "FLAGS = dotdict({'fake_data':False,\n",
    "                 'max_steps':1000,\n",
    "                 'learning_rate':0.001,\n",
    "                 'dropout':0.9,\n",
    "                 'data_dir':'/tmp/data',\n",
    "                 'summaries_dir':'/tmp/mnist_logs',\n",
    "                 'epochs' : 1 })\n",
    "\n",
    "n_inputs = 784\n",
    "n_classes = 10\n",
    "batch_size = 50\n",
    "\n",
    "#setup placeholders\n",
    "def placeholder():    \n",
    "    x = tf.placeholder('float',[None,n_inputs])\n",
    "    y = tf.placeholder('float',[None,n_classes])\n",
    "    return (x,y)\n",
    "\n",
    "x,y=placeholder()\n",
    "\n",
    "def variable_summaries(var, name):\n",
    "    \"\"\"Attach a lot of summaries to a Tensor.\"\"\"\n",
    "    with tf.name_scope('summaries'):\n",
    "        with tf.name_scope(name):\n",
    "            mean = tf.reduce_mean(var)\n",
    "            tf.scalar_summary('mean/' + name, mean)\n",
    "            with tf.name_scope('stddev'):\n",
    "                stddev = tf.sqrt(tf.reduce_mean(tf.square(var - mean)))\n",
    "            tf.scalar_summary('stddev/' + name, stddev)\n",
    "            tf.scalar_summary('max/' + name, tf.reduce_max(var))\n",
    "            tf.scalar_summary('min/' + name, tf.reduce_min(var))\n",
    "            tf.histogram_summary(name, var)\n",
    "\n",
    "def weight(w,name,**kwargs):\n",
    "    with tf.name_scope('weights'):\n",
    "        \"\"\"Create a weight variable with appropriate initialization.\"\"\"\n",
    "        initial = tf.truncated_normal(w, stddev=0.1)\n",
    "        ret =  tf.Variable(initial)\n",
    "        variable_summaries(ret,name+'/weights')\n",
    "        return ret\n",
    "    \n",
    "def bias(b,name,**kwargs):\n",
    "    \"\"\"Create a bias variable with appropriate initialization.\"\"\"\n",
    "    with tf.name_scope('bias'):\n",
    "        initial = tf.constant(0.1, shape=b)\n",
    "        ret = tf.Variable(initial)\n",
    "        variable_summaries(ret,name+'/bias')\n",
    "        return ret\n",
    "        \n",
    "def maxpool2d(x,name, k_w=2,k_s=2,**kwargs):\n",
    "    with tf.name_scope('max_pool'):\n",
    "        ret = tf.nn.max_pool(x, ksize=[1, k_w, k_w, 1], strides=[1, k_s, k_s, 1],\n",
    "                          padding='SAME')\n",
    "        tf.histogram_summary(name+'/max_pool',ret)\n",
    "        return ret\n",
    "\n",
    "def conv2d(x, w, b, k=1):\n",
    "    x = tf.nn.conv2d(x, w, strides=[1, k, k, 1] , padding='SAME')\n",
    "    x = tf.nn.bias_add(x, b)\n",
    "    return tf.nn.relu(x)\n",
    "\n",
    "def conv(x,w,b,name,k_c=1,**kwargs):\n",
    "    # Convolution\n",
    "    return conv2d(x,w, b,k=k_c)\n",
    "\n",
    "def fc(x,w,b,name,k_c=1,k_p=2,**kwargs):\n",
    "    with tf.name_scope('Wx_plus_b'):\n",
    "        pre= tf.add(tf.matmul(x, w), b)\n",
    "        tf.histogram_summary(name+'/pre_activations',pre)\n",
    "        return pre\n",
    "\n",
    "def relu(pre,name,**kwargs):\n",
    "    with tf.name_scope('activations'):\n",
    "        ret = tf.nn.relu(pre)\n",
    "        tf.histogram_summary(name+'/activations',ret)\n",
    "        return ret\n",
    "    \n",
    "def log_conv(conv,name,**kwargs):\n",
    "    _,_,img_size,channels = conv.get_shape().as_list()\n",
    "    ## Prepare for visualization\n",
    "    # Take only convolutions of first image, discard convolutions for other images.\n",
    "    V = tf.slice(conv, (0, 0, 0, 0), (1, -1, -1, -1), name='slice_first_input')\n",
    "    V = tf.reshape(V, (img_size, img_size, channels))\n",
    "    # Reorder so the channels are in the first dimension, x and y follow.\n",
    "    V = tf.transpose(V, (2, 0, 1))\n",
    "    # Bring into shape expected by image_summary\n",
    "    V = tf.reshape(V, (-1, img_size, img_size, 1))\n",
    "    tf.image_summary(name+'/convolved',V,10)\n",
    "    return conv\n",
    "\n",
    "layer_type = ({'conv':conv, 'fc':fc}).get\n",
    "post_type = ({'maxpool2d':maxpool2d,'relu':relu, 'log_conv':log_conv}).get\n",
    "\n",
    "def conv_neural_net(x,lshp , lt=layer_type):\n",
    "    x = tf.reshape(x, shape=[-1, 28, 28, 1])\n",
    "    def process_layer(**args):\n",
    "        wl,bl=(i(**args) for i in (weight,bias))\n",
    "        acc = lt(args['fn'])(**{**args,'w':wl,'b':bl})\n",
    "        if 'post' in args:\n",
    "            acc = reduce(lambda a,e: post_type(e[0])(a,args['name'],*e[1:]),args['post'],acc)\n",
    "        return acc\n",
    "    def fun(acc,e):\n",
    "        prev, cur= e\n",
    "        with tf.name_scope(cur['name']):\n",
    "            if 'fn' in prev:\n",
    "                if (prev['fn'] == 'conv' and cur['fn']!='conv'):\n",
    "                    acc = tf.reshape(acc,[-1,cur['w'][0]])\n",
    "                if (prev['fn']!='conv' and cur['fn']=='conv'):\n",
    "                    acc = tf.reshape(acc, shape=[-1, 28, 28, 1])\n",
    "            return process_layer(**{**cur, 'x':acc})\n",
    "    mixed = zip([{},*lshp],lshp)\n",
    "    return reduce(fun,mixed,x)"
   ]
  },
  {
   "cell_type": "code",
   "execution_count": 2,
   "metadata": {
    "collapsed": false
   },
   "outputs": [],
   "source": [
    "#list of stacked layers\n",
    "#name is name for logging, w is weight shape, b is bias shape,\n",
    "# fn is name for layer type (or rather layer construction function)\n",
    "layer_std = [\n",
    "    {'name':'c1','w':[5,5,1,32],'b':[32],'fn':'conv','post':[('relu',),('maxpool2d',),('log_conv',)]},\n",
    "    {'name':'c2', 'w':[5,5,32,64], 'b':[64],'fn':'conv','post':[('relu',),('maxpool2d',)]},\n",
    "    {'name':'d1','w':[7*7*64,1024], 'b':[1024],'fn':'fc','post':[('relu',)]},\n",
    "    {'name':'out','w':[1024,n_classes], 'b':[n_classes],'fn':'fc'},\n",
    "]"
   ]
  },
  {
   "cell_type": "code",
   "execution_count": 3,
   "metadata": {
    "collapsed": true
   },
   "outputs": [],
   "source": [
    "#list of stacked layers\n",
    "#name is name for logging, w is weight shape, b is bias shape,\n",
    "# fn is name for layer type (or rather layer construction function)\n",
    "layer_deep = [\n",
    "    {'name':'c1','w':[5,5,1,32],'b':[32],'fn':'conv','post':[('relu',),('maxpool2d',),('log_conv',)]},\n",
    "    {'name':'c2','w':[3,3,32,64],'b':[64],'fn':'conv','post':[('relu',),('maxpool2d',)]},\n",
    "    {'name':'c3','w':[3,3,64,64],'b':[64],'fn':'conv','post':[('relu',)]},\n",
    "    {'name':'c4','w':[3,3,64,64],'b':[64],'fn':'conv','post':[('relu',)]},\n",
    "    {'name':'d1','w':[7*7*64,1024], 'b':[1024],'fn':'fc','post':[('relu',)]},\n",
    "    {'name':'out','w':[1024,n_classes], 'b':[n_classes],'fn':'fc'},\n",
    "]"
   ]
  },
  {
   "cell_type": "code",
   "execution_count": 4,
   "metadata": {
    "collapsed": true
   },
   "outputs": [],
   "source": [
    "layer_deep_2 = [\n",
    "    {'name':'c1','w':[7,7,1,32],'b':[32],'fn':'conv','post':[('relu',),('maxpool2d',),('log_conv',)]},\n",
    "    {'name':'c2','w':[5,5,32,64],'b':[64],'fn':'conv','post':[('relu',),('maxpool2d',)]},\n",
    "    {'name':'c3','w':[3,3,64,64],'b':[64],'fn':'conv','post':[('relu',)]},\n",
    "    {'name':'c4','w':[3,3,64,64],'b':[64],'fn':'conv','post':[('relu',)]},\n",
    "    {'name':'c5','w':[3,3,64,64],'b':[64],'fn':'conv','post':[('relu',)]},\n",
    "    {'name':'d1','w':[7*7*64,1024], 'b':[1024],'fn':'fc','post':[('relu',)]},\n",
    "    {'name':'out','w':[1024,n_classes], 'b':[n_classes],'fn':'fc'},\n",
    "]"
   ]
  },
  {
   "cell_type": "code",
   "execution_count": 5,
   "metadata": {
    "collapsed": false
   },
   "outputs": [],
   "source": [
    "min_deep = [\n",
    "    {'name':'c1','w':[3,3,1,16],'b':[16],'fn':'conv','post':[('relu',),('maxpool2d',),('log_conv',)]},\n",
    "    {'name':'c2','w':[3,3,16,16],'b':[16],'fn':'conv','post':[('relu',),('maxpool2d',)]},\n",
    "    {'name':'c4','w':[3,3,16,16],'b':[16],'fn':'conv','post':[('relu',)]},\n",
    "    {'name':'c5','w':[3,3,16,8],'b':[8],'fn':'conv','post':[('relu',),('log_conv',)]},\n",
    "    {'name':'d1','w':[7*7*8,128], 'b':[128],'fn':'fc','post':[('relu',)]},\n",
    "    {'name':'out','w':[128,n_classes], 'b':[n_classes],'fn':'fc'},\n",
    "]"
   ]
  },
  {
   "cell_type": "code",
   "execution_count": 6,
   "metadata": {
    "collapsed": true
   },
   "outputs": [],
   "source": [
    "ultra_deep = [\n",
    "    {'name':'c1','w':[3,3,1,16],'b':[16],'fn':'conv','post':[('relu',),('log_conv',)]},\n",
    "    {'name':'c2','w':[3,3,16,16],'b':[16],'fn':'conv','post':[('relu',)]},\n",
    "    {'name':'c3','w':[3,3,16,16],'b':[16],'fn':'conv','post':[('relu',)]},\n",
    "    {'name':'c4','w':[3,3,16,16],'b':[16],'fn':'conv','post':[('relu',)]},\n",
    "    {'name':'c5','w':[3,3,16,16],'b':[16],'fn':'conv','post':[('relu',)]},\n",
    "    {'name':'c6','w':[3,3,16,16],'b':[16],'fn':'conv','post':[('relu',)]},\n",
    "    {'name':'c7','w':[3,3,16,16],'b':[16],'fn':'conv','post':[('relu',),('maxpool2d',)]},\n",
    "    {'name':'c8','w':[3,3,16,8],'b':[8],'fn':'conv','post':[('relu',),('maxpool2d',),('log_conv',)]},\n",
    "    {'name':'d1','w':[7*7*8,128], 'b':[128],'fn':'fc','post':[('relu',)]},\n",
    "    {'name':'out','w':[128,n_classes], 'b':[n_classes],'fn':'fc'},\n",
    "]"
   ]
  },
  {
   "cell_type": "code",
   "execution_count": 7,
   "metadata": {
    "collapsed": true
   },
   "outputs": [],
   "source": [
    "ultra_deep_2 = [\n",
    "    {'name':'c1','w':[3,3,1,64],'b':[64],'fn':'conv','post':[('relu',),('maxpool2d',),('log_conv',)]},\n",
    "    {'name':'c2','w':[3,3,64,128],'b':[128],'fn':'conv','post':[('relu',),('maxpool2d',)]},\n",
    "    {'name':'c3','w':[3,3,128,16],'b':[16],'fn':'conv','post':[('relu',)]},\n",
    "    {'name':'c4','w':[3,3,16,16],'b':[16],'fn':'conv','post':[('relu',)]},\n",
    "    {'name':'c5','w':[3,3,16,16],'b':[16],'fn':'conv','post':[('relu',)]},\n",
    "    {'name':'c6','w':[3,3,16,16],'b':[16],'fn':'conv','post':[('relu',)]},\n",
    "    {'name':'c7','w':[3,3,16,16],'b':[16],'fn':'conv','post':[('relu',)]},\n",
    "    {'name':'c8','w':[3,3,16,8],'b':[8],'fn':'conv','post':[('relu',),('log_conv',)]},\n",
    "    {'name':'d1','w':[7*7*8,128], 'b':[128],'fn':'fc','post':[('relu',)]},\n",
    "    {'name':'out','w':[128,n_classes], 'b':[n_classes],'fn':'fc'},\n",
    "]"
   ]
  },
  {
   "cell_type": "code",
   "execution_count": 8,
   "metadata": {
    "collapsed": false
   },
   "outputs": [],
   "source": [
    "layers = {\n",
    "    'std':layer_std,\n",
    "    'deep_1':layer_deep,\n",
    "    'deep_2':layer_deep_2,\n",
    "    'min_deep':min_deep\n",
    "}"
   ]
  },
  {
   "cell_type": "code",
   "execution_count": 9,
   "metadata": {
    "collapsed": false
   },
   "outputs": [],
   "source": [
    "def cost(pred,y):\n",
    "    with tf.name_scope('loss'):\n",
    "        loss = tf.reduce_mean(tf.nn.softmax_cross_entropy_with_logits(pred,y))\n",
    "        tf.scalar_summary('cross entropy',loss)\n",
    "        return loss\n",
    "    \n",
    "def opt(loss,learning_rate):\n",
    "    with tf.name_scope('optimizer'):\n",
    "        return tf.train.AdamOptimizer(learning_rate).minimize(loss)\n",
    "\n",
    "def wrong_imgs(pred,y,x):\n",
    "    with tf.name_scope('correct'):\n",
    "        x_ = tf.reshape(x, shape=[-1, 28, 28, 1])\n",
    "        false = tf.not_equal(tf.argmax(pred,1), tf.argmax(y,1))\n",
    "        filtered = tf.boolean_mask(x_,false)\n",
    "        return tf.image_summary('misclassified',filtered,10)\n",
    "        \n",
    "        \n",
    "def acc(pred,y):\n",
    "    with tf.name_scope('accuracy'):\n",
    "        correct = tf.equal(tf.argmax(pred,1), tf.argmax(y,1))\n",
    "        accuracy = tf.reduce_mean(tf.cast(correct, 'float'))\n",
    "        tf.scalar_summary('accuracy',accuracy)\n",
    "        return accuracy"
   ]
  },
  {
   "cell_type": "code",
   "execution_count": 10,
   "metadata": {
    "collapsed": false
   },
   "outputs": [],
   "source": [
    "def train_and_test_conv_neural_net(x, y,pred, summaries_dir,learning_rate,epochs = 1,fake_data=True,**kwargs):\n",
    "    loss = cost(pred,y)\n",
    "    optim = opt(loss,learning_rate)\n",
    "    accuracy = acc(pred,y)\n",
    "    merged = tf.merge_all_summaries()\n",
    "    wrong_images =wrong_imgs(pred,y,x)\n",
    "    with tf.Session() as sess:\n",
    "        train_writer = tf.train.SummaryWriter(summaries_dir + '/train',sess.graph)\n",
    "        test_writer = tf.train.SummaryWriter(summaries_dir + '/test')\n",
    "        sess.run(tf.initialize_all_variables())\n",
    "        idx = lambda e,i: int(mnist.train.num_examples/batch_size*e+i)\n",
    "        for e in range(epochs):\n",
    "            epoch_loss = 0\n",
    "            for i in range(int(mnist.train.num_examples/batch_size)):\n",
    "                if i % 1000 == 999:\n",
    "                    print(\"actually got here in 1 epoch\")\n",
    "                    summary, accu, w_i = sess.run([merged,accuracy,wrong_images],feed_dict = {x:mnist.test.images, y:mnist.test.labels})\n",
    "                    [test_writer.add_summary(s,idx(e,i)) for s in (summary, w_i)]\n",
    "                if i%20 == 19:\n",
    "                    epoch_x, epoch_y = mnist.train.next_batch(batch_size,fake_data)\n",
    "                    _, c,summary = sess.run([optim, loss,merged], feed_dict = {x:epoch_x, y:epoch_y})\n",
    "                    train_writer.add_summary(summary, idx(e,i))\n",
    "                    epoch_loss = epoch_loss + c\n",
    "                else:\n",
    "                    epoch_x, epoch_y = mnist.train.next_batch(batch_size, fake_data)\n",
    "                    _, c = sess.run([optim, loss], feed_dict = {x:epoch_x, y:epoch_y})\n",
    "                    epoch_loss = epoch_loss + c\n",
    "            print('Epoch ' + str(e+1) + ' out of ' + str(epochs) + ' / Loss: ' + str(epoch_loss))\n",
    "            summary, accu, w_i = sess.run([merged,accuracy,wrong_images],feed_dict = {x:mnist.test.images, y:mnist.test.labels})\n",
    "            [test_writer.add_summary(s,idx(e+1,0)) for s in (summary, w_i)]\n",
    "            print('Accuracy: ' + str(accu))\n",
    "        print('Training finished!')"
   ]
  },
  {
   "cell_type": "code",
   "execution_count": 27,
   "metadata": {
    "collapsed": true
   },
   "outputs": [],
   "source": [
    "def train_layer(name,layer_shape):\n",
    "    tf.reset_default_graph()\n",
    "    x,y = placeholder()\n",
    "    pred = conv_neural_net(x,layer_shape)\n",
    "    summaries_dir = logdir(FLAGS['summaries_dir'],name)\n",
    "    print(\"Writing to: \"+summaries_dir)\n",
    "    train_and_test_conv_neural_net(x,y,pred,**{**FLAGS, 'epochs': 5,'summaries_dir':summaries_dir})\n",
    "    \n",
    "def train_layers(layer_shapes):\n",
    "    return [train_layer(n,l) for (n,l) in layer_shapes.items()]"
   ]
  },
  {
   "cell_type": "code",
   "execution_count": 15,
   "metadata": {
    "collapsed": false
   },
   "outputs": [
    {
     "name": "stdout",
     "output_type": "stream",
     "text": [
      "Writing to: /tmp/mnist_logs/std/20161206-151259\n",
      "actually got here in 1 epoch\n",
      "Epoch 1 out of 3 / Loss: 249.640399276\n",
      "Accuracy: 0.9827\n",
      "actually got here in 1 epoch\n",
      "Epoch 2 out of 3 / Loss: 51.5672024529\n",
      "Accuracy: 0.9831\n",
      "actually got here in 1 epoch\n",
      "Epoch 3 out of 3 / Loss: 33.8092931461\n",
      "Accuracy: 0.9881\n",
      "Training finished!\n"
     ]
    }
   ],
   "source": [
    "train_layer(\"std\",layer_std)"
   ]
  },
  {
   "cell_type": "code",
   "execution_count": null,
   "metadata": {
    "collapsed": false
   },
   "outputs": [
    {
     "name": "stdout",
     "output_type": "stream",
     "text": [
      "Writing to: /tmp/mnist_logs/ultra_deep/20161206-144904\n"
     ]
    }
   ],
   "source": [
    "train_layer(\"ultra_deep\",ultra_deep)"
   ]
  },
  {
   "cell_type": "code",
   "execution_count": 32,
   "metadata": {
    "collapsed": false,
    "scrolled": true
   },
   "outputs": [
    {
     "name": "stdout",
     "output_type": "stream",
     "text": [
      "Writing to: /tmp/mnist_logs/min_deep/20161206-144007\n",
      "Epoch 1 out of 3 / Loss: 318.539597624\n",
      "Accuracy: 0.9572\n",
      "Epoch 2 out of 3 / Loss: 88.32974363\n",
      "Accuracy: 0.9821\n",
      "Epoch 3 out of 3 / Loss: 59.1003624431\n",
      "Accuracy: 0.9833\n",
      "Training finished!\n"
     ]
    }
   ],
   "source": [
    "train_layer(\"min_deep\", min_deep)"
   ]
  },
  {
   "cell_type": "code",
   "execution_count": 12,
   "metadata": {
    "collapsed": true
   },
   "outputs": [],
   "source": [
    "min_deep_2 = [\n",
    "    {'name':'c1','w':[3,3,1,16],'b':[16],'fn':'conv','post':[('relu',),('maxpool2d',),('log_conv',)]},\n",
    "    {'name':'c2','w':[3,3,16,16],'b':[16],'fn':'conv','post':[('relu',),('maxpool2d',)]},\n",
    "    {'name':'c5','w':[3,3,16,8],'b':[8],'fn':'conv','post':[('relu',),('log_conv',)]},\n",
    "    {'name':'d1','w':[7*7*8,128], 'b':[128],'fn':'fc','post':[('relu',)]},\n",
    "    {'name':'out','w':[128,n_classes], 'b':[n_classes],'fn':'fc'},\n",
    "]"
   ]
  },
  {
   "cell_type": "code",
   "execution_count": 17,
   "metadata": {
    "collapsed": false,
    "scrolled": true
   },
   "outputs": [
    {
     "name": "stdout",
     "output_type": "stream",
     "text": [
      "Writing to: /tmp/mnist_logs/min_deep_2/20161206-155933\n",
      "actually got here in 1 epoch\n",
      "Epoch 1 out of 3 / Loss: 307.399545964\n",
      "Accuracy: 0.9665\n",
      "actually got here in 1 epoch\n",
      "Epoch 2 out of 3 / Loss: 81.6447817045\n",
      "Accuracy: 0.9836\n",
      "actually got here in 1 epoch\n",
      "Epoch 3 out of 3 / Loss: 57.4519388558\n",
      "Accuracy: 0.9851\n",
      "Training finished!\n"
     ]
    }
   ],
   "source": [
    "train_layer(\"min_deep_2\",min_deep_2)"
   ]
  },
  {
   "cell_type": "code",
   "execution_count": 13,
   "metadata": {
    "collapsed": true
   },
   "outputs": [],
   "source": [
    "min_deep_3 = [\n",
    "    {'name':'c1','w':[3,3,1,16],'b':[16],'fn':'conv','post':[('relu',),('maxpool2d',),('log_conv',)]},\n",
    "    {'name':'c2','w':[3,3,16,16],'b':[16],'fn':'conv','post':[('relu',),('maxpool2d',)]},\n",
    "    {'name':'c5','w':[3,3,16,8],'b':[8],'fn':'conv','post':[('relu',),('maxpool2d',),('log_conv',)]},\n",
    "    {'name':'d1','w':[4*4*8,64], 'b':[64],'fn':'fc','post':[('relu',)]},\n",
    "    {'name':'out','w':[64,n_classes], 'b':[n_classes],'fn':'fc'},\n",
    "]"
   ]
  },
  {
   "cell_type": "code",
   "execution_count": 27,
   "metadata": {
    "collapsed": false
   },
   "outputs": [
    {
     "name": "stdout",
     "output_type": "stream",
     "text": [
      "Writing to: /tmp/mnist_logs/min_deep_3/20161206-160620\n",
      "actually got here in 1 epoch\n",
      "Epoch 1 out of 3 / Loss: 415.470117016\n",
      "Accuracy: 0.9669\n",
      "actually got here in 1 epoch\n",
      "Epoch 2 out of 3 / Loss: 114.922457585\n",
      "Accuracy: 0.9781\n",
      "actually got here in 1 epoch\n",
      "Epoch 3 out of 3 / Loss: 84.8723762429\n",
      "Accuracy: 0.9766\n",
      "Training finished!\n"
     ]
    }
   ],
   "source": [
    "train_layer(\"min_deep_3\",min_deep_3)"
   ]
  },
  {
   "cell_type": "code",
   "execution_count": 28,
   "metadata": {
    "collapsed": true
   },
   "outputs": [],
   "source": [
    "min_deep_4 = [\n",
    "    {'name':'c1','w':[3,3,1,4],'b':[4],'fn':'conv','post':[('relu',),('maxpool2d',),('log_conv',)]},\n",
    "    {'name':'c2','w':[3,3,4,8],'b':[8],'fn':'conv','post':[('relu',),('maxpool2d',)]},\n",
    "    {'name':'c5','w':[3,3,8,4],'b':[4],'fn':'conv','post':[('relu',),('maxpool2d',),('log_conv',)]},\n",
    "    {'name':'d1','w':[4*4*4,8], 'b':[8],'fn':'fc','post':[('relu',)]},\n",
    "    {'name':'out','w':[8,n_classes], 'b':[n_classes],'fn':'fc'},\n",
    "]"
   ]
  },
  {
   "cell_type": "code",
   "execution_count": 29,
   "metadata": {
    "collapsed": false,
    "scrolled": true
   },
   "outputs": [
    {
     "name": "stdout",
     "output_type": "stream",
     "text": [
      "Writing to: /tmp/mnist_logs/min_deep_4/20161206-172628\n",
      "actually got here in 1 epoch\n",
      "Epoch 1 out of 5 / Loss: 836.503729656\n",
      "Accuracy: 0.922\n",
      "actually got here in 1 epoch\n",
      "Epoch 2 out of 5 / Loss: 256.473767843\n",
      "Accuracy: 0.9429\n",
      "actually got here in 1 epoch\n",
      "Epoch 3 out of 5 / Loss: 203.766857659\n",
      "Accuracy: 0.9537\n",
      "actually got here in 1 epoch\n",
      "Epoch 4 out of 5 / Loss: 180.892082803\n",
      "Accuracy: 0.9547\n",
      "actually got here in 1 epoch\n",
      "Epoch 5 out of 5 / Loss: 162.45784852\n",
      "Accuracy: 0.9601\n",
      "Training finished!\n"
     ]
    }
   ],
   "source": [
    "train_layer(\"min_deep_4\",min_deep_4)"
   ]
  },
  {
   "cell_type": "code",
   "execution_count": 31,
   "metadata": {
    "collapsed": true
   },
   "outputs": [],
   "source": [
    "min_deep_5 = [\n",
    "    {'name':'c1','w':[3,3,1,4],'b':[4],'fn':'conv','post':[('relu',),('maxpool2d',),('log_conv',)]},\n",
    "    {'name':'c2','w':[3,3,8,4],'b':[4],'fn':'conv','post':[('relu',),('maxpool2d',4,4),('log_conv',)]},\n",
    "    {'name':'d1','w':[4*4*4,8], 'b':[8],'fn':'fc','post':[('relu',)]},\n",
    "    {'name':'out','w':[8,n_classes], 'b':[n_classes],'fn':'fc'},\n",
    "]"
   ]
  },
  {
   "cell_type": "code",
   "execution_count": 32,
   "metadata": {
    "collapsed": false
   },
   "outputs": [
    {
     "ename": "ValueError",
     "evalue": "Dimensions must be equal, but are 4 and 8",
     "output_type": "error",
     "traceback": [
      "\u001b[0;31m---------------------------------------------------------------------------\u001b[0m",
      "\u001b[0;31mInvalidArgumentError\u001b[0m                      Traceback (most recent call last)",
      "\u001b[0;32m/Library/Frameworks/Python.framework/Versions/3.5/lib/python3.5/site-packages/tensorflow/python/framework/common_shapes.py\u001b[0m in \u001b[0;36mcall_cpp_shape_fn\u001b[0;34m(op, input_tensors_needed, debug_python_shape_fn)\u001b[0m\n\u001b[1;32m    593\u001b[0m                                                              \u001b[0minput_tensors\u001b[0m\u001b[0;34m,\u001b[0m\u001b[0;34m\u001b[0m\u001b[0m\n\u001b[0;32m--> 594\u001b[0;31m                                                              status)\n\u001b[0m\u001b[1;32m    595\u001b[0m   \u001b[0;32mexcept\u001b[0m \u001b[0merrors\u001b[0m\u001b[0;34m.\u001b[0m\u001b[0mInvalidArgumentError\u001b[0m \u001b[0;32mas\u001b[0m \u001b[0merr\u001b[0m\u001b[0;34m:\u001b[0m\u001b[0;34m\u001b[0m\u001b[0m\n",
      "\u001b[0;32m/Library/Frameworks/Python.framework/Versions/3.5/lib/python3.5/contextlib.py\u001b[0m in \u001b[0;36m__exit__\u001b[0;34m(self, type, value, traceback)\u001b[0m\n\u001b[1;32m     65\u001b[0m             \u001b[0;32mtry\u001b[0m\u001b[0;34m:\u001b[0m\u001b[0;34m\u001b[0m\u001b[0m\n\u001b[0;32m---> 66\u001b[0;31m                 \u001b[0mnext\u001b[0m\u001b[0;34m(\u001b[0m\u001b[0mself\u001b[0m\u001b[0;34m.\u001b[0m\u001b[0mgen\u001b[0m\u001b[0;34m)\u001b[0m\u001b[0;34m\u001b[0m\u001b[0m\n\u001b[0m\u001b[1;32m     67\u001b[0m             \u001b[0;32mexcept\u001b[0m \u001b[0mStopIteration\u001b[0m\u001b[0;34m:\u001b[0m\u001b[0;34m\u001b[0m\u001b[0m\n",
      "\u001b[0;32m/Library/Frameworks/Python.framework/Versions/3.5/lib/python3.5/site-packages/tensorflow/python/framework/errors.py\u001b[0m in \u001b[0;36mraise_exception_on_not_ok_status\u001b[0;34m()\u001b[0m\n\u001b[1;32m    462\u001b[0m           \u001b[0mcompat\u001b[0m\u001b[0;34m.\u001b[0m\u001b[0mas_text\u001b[0m\u001b[0;34m(\u001b[0m\u001b[0mpywrap_tensorflow\u001b[0m\u001b[0;34m.\u001b[0m\u001b[0mTF_Message\u001b[0m\u001b[0;34m(\u001b[0m\u001b[0mstatus\u001b[0m\u001b[0;34m)\u001b[0m\u001b[0;34m)\u001b[0m\u001b[0;34m,\u001b[0m\u001b[0;34m\u001b[0m\u001b[0m\n\u001b[0;32m--> 463\u001b[0;31m           pywrap_tensorflow.TF_GetCode(status))\n\u001b[0m\u001b[1;32m    464\u001b[0m   \u001b[0;32mfinally\u001b[0m\u001b[0;34m:\u001b[0m\u001b[0;34m\u001b[0m\u001b[0m\n",
      "\u001b[0;31mInvalidArgumentError\u001b[0m: Dimensions must be equal, but are 4 and 8",
      "\nDuring handling of the above exception, another exception occurred:\n",
      "\u001b[0;31mValueError\u001b[0m                                Traceback (most recent call last)",
      "\u001b[0;32m<ipython-input-32-f0b113ae5faa>\u001b[0m in \u001b[0;36m<module>\u001b[0;34m()\u001b[0m\n\u001b[0;32m----> 1\u001b[0;31m \u001b[0mtrain_layer\u001b[0m\u001b[0;34m(\u001b[0m\u001b[0;34m\"min_deep_5\"\u001b[0m\u001b[0;34m,\u001b[0m\u001b[0mmin_deep_5\u001b[0m\u001b[0;34m)\u001b[0m\u001b[0;34m\u001b[0m\u001b[0m\n\u001b[0m",
      "\u001b[0;32m<ipython-input-27-58c8a5cd2abd>\u001b[0m in \u001b[0;36mtrain_layer\u001b[0;34m(name, layer_shape)\u001b[0m\n\u001b[1;32m      2\u001b[0m     \u001b[0mtf\u001b[0m\u001b[0;34m.\u001b[0m\u001b[0mreset_default_graph\u001b[0m\u001b[0;34m(\u001b[0m\u001b[0;34m)\u001b[0m\u001b[0;34m\u001b[0m\u001b[0m\n\u001b[1;32m      3\u001b[0m     \u001b[0mx\u001b[0m\u001b[0;34m,\u001b[0m\u001b[0my\u001b[0m \u001b[0;34m=\u001b[0m \u001b[0mplaceholder\u001b[0m\u001b[0;34m(\u001b[0m\u001b[0;34m)\u001b[0m\u001b[0;34m\u001b[0m\u001b[0m\n\u001b[0;32m----> 4\u001b[0;31m     \u001b[0mpred\u001b[0m \u001b[0;34m=\u001b[0m \u001b[0mconv_neural_net\u001b[0m\u001b[0;34m(\u001b[0m\u001b[0mx\u001b[0m\u001b[0;34m,\u001b[0m\u001b[0mlayer_shape\u001b[0m\u001b[0;34m)\u001b[0m\u001b[0;34m\u001b[0m\u001b[0m\n\u001b[0m\u001b[1;32m      5\u001b[0m     \u001b[0msummaries_dir\u001b[0m \u001b[0;34m=\u001b[0m \u001b[0mlogdir\u001b[0m\u001b[0;34m(\u001b[0m\u001b[0mFLAGS\u001b[0m\u001b[0;34m[\u001b[0m\u001b[0;34m'summaries_dir'\u001b[0m\u001b[0;34m]\u001b[0m\u001b[0;34m,\u001b[0m\u001b[0mname\u001b[0m\u001b[0;34m)\u001b[0m\u001b[0;34m\u001b[0m\u001b[0m\n\u001b[1;32m      6\u001b[0m     \u001b[0mprint\u001b[0m\u001b[0;34m(\u001b[0m\u001b[0;34m\"Writing to: \"\u001b[0m\u001b[0;34m+\u001b[0m\u001b[0msummaries_dir\u001b[0m\u001b[0;34m)\u001b[0m\u001b[0;34m\u001b[0m\u001b[0m\n",
      "\u001b[0;32m<ipython-input-1-8efa2ca65e5c>\u001b[0m in \u001b[0;36mconv_neural_net\u001b[0;34m(x, lshp, lt)\u001b[0m\n\u001b[1;32m    125\u001b[0m             \u001b[0;32mreturn\u001b[0m \u001b[0mprocess_layer\u001b[0m\u001b[0;34m(\u001b[0m\u001b[0;34m**\u001b[0m\u001b[0;34m{\u001b[0m\u001b[0;34m**\u001b[0m\u001b[0mcur\u001b[0m\u001b[0;34m,\u001b[0m \u001b[0;34m'x'\u001b[0m\u001b[0;34m:\u001b[0m\u001b[0macc\u001b[0m\u001b[0;34m}\u001b[0m\u001b[0;34m)\u001b[0m\u001b[0;34m\u001b[0m\u001b[0m\n\u001b[1;32m    126\u001b[0m     \u001b[0mmixed\u001b[0m \u001b[0;34m=\u001b[0m \u001b[0mzip\u001b[0m\u001b[0;34m(\u001b[0m\u001b[0;34m[\u001b[0m\u001b[0;34m{\u001b[0m\u001b[0;34m}\u001b[0m\u001b[0;34m,\u001b[0m\u001b[0;34m*\u001b[0m\u001b[0mlshp\u001b[0m\u001b[0;34m]\u001b[0m\u001b[0;34m,\u001b[0m\u001b[0mlshp\u001b[0m\u001b[0;34m)\u001b[0m\u001b[0;34m\u001b[0m\u001b[0m\n\u001b[0;32m--> 127\u001b[0;31m     \u001b[0;32mreturn\u001b[0m \u001b[0mreduce\u001b[0m\u001b[0;34m(\u001b[0m\u001b[0mfun\u001b[0m\u001b[0;34m,\u001b[0m\u001b[0mmixed\u001b[0m\u001b[0;34m,\u001b[0m\u001b[0mx\u001b[0m\u001b[0;34m)\u001b[0m\u001b[0;34m\u001b[0m\u001b[0m\n\u001b[0m",
      "\u001b[0;32m<ipython-input-1-8efa2ca65e5c>\u001b[0m in \u001b[0;36mfun\u001b[0;34m(acc, e)\u001b[0m\n\u001b[1;32m    123\u001b[0m                 \u001b[0;32mif\u001b[0m \u001b[0;34m(\u001b[0m\u001b[0mprev\u001b[0m\u001b[0;34m[\u001b[0m\u001b[0;34m'fn'\u001b[0m\u001b[0;34m]\u001b[0m\u001b[0;34m!=\u001b[0m\u001b[0;34m'conv'\u001b[0m \u001b[0;32mand\u001b[0m \u001b[0mcur\u001b[0m\u001b[0;34m[\u001b[0m\u001b[0;34m'fn'\u001b[0m\u001b[0;34m]\u001b[0m\u001b[0;34m==\u001b[0m\u001b[0;34m'conv'\u001b[0m\u001b[0;34m)\u001b[0m\u001b[0;34m:\u001b[0m\u001b[0;34m\u001b[0m\u001b[0m\n\u001b[1;32m    124\u001b[0m                     \u001b[0macc\u001b[0m \u001b[0;34m=\u001b[0m \u001b[0mtf\u001b[0m\u001b[0;34m.\u001b[0m\u001b[0mreshape\u001b[0m\u001b[0;34m(\u001b[0m\u001b[0macc\u001b[0m\u001b[0;34m,\u001b[0m \u001b[0mshape\u001b[0m\u001b[0;34m=\u001b[0m\u001b[0;34m[\u001b[0m\u001b[0;34m-\u001b[0m\u001b[0;36m1\u001b[0m\u001b[0;34m,\u001b[0m \u001b[0;36m28\u001b[0m\u001b[0;34m,\u001b[0m \u001b[0;36m28\u001b[0m\u001b[0;34m,\u001b[0m \u001b[0;36m1\u001b[0m\u001b[0;34m]\u001b[0m\u001b[0;34m)\u001b[0m\u001b[0;34m\u001b[0m\u001b[0m\n\u001b[0;32m--> 125\u001b[0;31m             \u001b[0;32mreturn\u001b[0m \u001b[0mprocess_layer\u001b[0m\u001b[0;34m(\u001b[0m\u001b[0;34m**\u001b[0m\u001b[0;34m{\u001b[0m\u001b[0;34m**\u001b[0m\u001b[0mcur\u001b[0m\u001b[0;34m,\u001b[0m \u001b[0;34m'x'\u001b[0m\u001b[0;34m:\u001b[0m\u001b[0macc\u001b[0m\u001b[0;34m}\u001b[0m\u001b[0;34m)\u001b[0m\u001b[0;34m\u001b[0m\u001b[0m\n\u001b[0m\u001b[1;32m    126\u001b[0m     \u001b[0mmixed\u001b[0m \u001b[0;34m=\u001b[0m \u001b[0mzip\u001b[0m\u001b[0;34m(\u001b[0m\u001b[0;34m[\u001b[0m\u001b[0;34m{\u001b[0m\u001b[0;34m}\u001b[0m\u001b[0;34m,\u001b[0m\u001b[0;34m*\u001b[0m\u001b[0mlshp\u001b[0m\u001b[0;34m]\u001b[0m\u001b[0;34m,\u001b[0m\u001b[0mlshp\u001b[0m\u001b[0;34m)\u001b[0m\u001b[0;34m\u001b[0m\u001b[0m\n\u001b[1;32m    127\u001b[0m     \u001b[0;32mreturn\u001b[0m \u001b[0mreduce\u001b[0m\u001b[0;34m(\u001b[0m\u001b[0mfun\u001b[0m\u001b[0;34m,\u001b[0m\u001b[0mmixed\u001b[0m\u001b[0;34m,\u001b[0m\u001b[0mx\u001b[0m\u001b[0;34m)\u001b[0m\u001b[0;34m\u001b[0m\u001b[0m\n",
      "\u001b[0;32m<ipython-input-1-8efa2ca65e5c>\u001b[0m in \u001b[0;36mprocess_layer\u001b[0;34m(**args)\u001b[0m\n\u001b[1;32m    111\u001b[0m     \u001b[0;32mdef\u001b[0m \u001b[0mprocess_layer\u001b[0m\u001b[0;34m(\u001b[0m\u001b[0;34m**\u001b[0m\u001b[0margs\u001b[0m\u001b[0;34m)\u001b[0m\u001b[0;34m:\u001b[0m\u001b[0;34m\u001b[0m\u001b[0m\n\u001b[1;32m    112\u001b[0m         \u001b[0mwl\u001b[0m\u001b[0;34m,\u001b[0m\u001b[0mbl\u001b[0m\u001b[0;34m=\u001b[0m\u001b[0;34m(\u001b[0m\u001b[0mi\u001b[0m\u001b[0;34m(\u001b[0m\u001b[0;34m**\u001b[0m\u001b[0margs\u001b[0m\u001b[0;34m)\u001b[0m \u001b[0;32mfor\u001b[0m \u001b[0mi\u001b[0m \u001b[0;32min\u001b[0m \u001b[0;34m(\u001b[0m\u001b[0mweight\u001b[0m\u001b[0;34m,\u001b[0m\u001b[0mbias\u001b[0m\u001b[0;34m)\u001b[0m\u001b[0;34m)\u001b[0m\u001b[0;34m\u001b[0m\u001b[0m\n\u001b[0;32m--> 113\u001b[0;31m         \u001b[0macc\u001b[0m \u001b[0;34m=\u001b[0m \u001b[0mlt\u001b[0m\u001b[0;34m(\u001b[0m\u001b[0margs\u001b[0m\u001b[0;34m[\u001b[0m\u001b[0;34m'fn'\u001b[0m\u001b[0;34m]\u001b[0m\u001b[0;34m)\u001b[0m\u001b[0;34m(\u001b[0m\u001b[0;34m**\u001b[0m\u001b[0;34m{\u001b[0m\u001b[0;34m**\u001b[0m\u001b[0margs\u001b[0m\u001b[0;34m,\u001b[0m\u001b[0;34m'w'\u001b[0m\u001b[0;34m:\u001b[0m\u001b[0mwl\u001b[0m\u001b[0;34m,\u001b[0m\u001b[0;34m'b'\u001b[0m\u001b[0;34m:\u001b[0m\u001b[0mbl\u001b[0m\u001b[0;34m}\u001b[0m\u001b[0;34m)\u001b[0m\u001b[0;34m\u001b[0m\u001b[0m\n\u001b[0m\u001b[1;32m    114\u001b[0m         \u001b[0;32mif\u001b[0m \u001b[0;34m'post'\u001b[0m \u001b[0;32min\u001b[0m \u001b[0margs\u001b[0m\u001b[0;34m:\u001b[0m\u001b[0;34m\u001b[0m\u001b[0m\n\u001b[1;32m    115\u001b[0m             \u001b[0macc\u001b[0m \u001b[0;34m=\u001b[0m \u001b[0mreduce\u001b[0m\u001b[0;34m(\u001b[0m\u001b[0;32mlambda\u001b[0m \u001b[0ma\u001b[0m\u001b[0;34m,\u001b[0m\u001b[0me\u001b[0m\u001b[0;34m:\u001b[0m \u001b[0mpost_type\u001b[0m\u001b[0;34m(\u001b[0m\u001b[0me\u001b[0m\u001b[0;34m[\u001b[0m\u001b[0;36m0\u001b[0m\u001b[0;34m]\u001b[0m\u001b[0;34m)\u001b[0m\u001b[0;34m(\u001b[0m\u001b[0ma\u001b[0m\u001b[0;34m,\u001b[0m\u001b[0margs\u001b[0m\u001b[0;34m[\u001b[0m\u001b[0;34m'name'\u001b[0m\u001b[0;34m]\u001b[0m\u001b[0;34m,\u001b[0m\u001b[0;34m*\u001b[0m\u001b[0me\u001b[0m\u001b[0;34m[\u001b[0m\u001b[0;36m1\u001b[0m\u001b[0;34m:\u001b[0m\u001b[0;34m]\u001b[0m\u001b[0;34m)\u001b[0m\u001b[0;34m,\u001b[0m\u001b[0margs\u001b[0m\u001b[0;34m[\u001b[0m\u001b[0;34m'post'\u001b[0m\u001b[0;34m]\u001b[0m\u001b[0;34m,\u001b[0m\u001b[0macc\u001b[0m\u001b[0;34m)\u001b[0m\u001b[0;34m\u001b[0m\u001b[0m\n",
      "\u001b[0;32m<ipython-input-1-8efa2ca65e5c>\u001b[0m in \u001b[0;36mconv\u001b[0;34m(x, w, b, name, k_c, **kwargs)\u001b[0m\n\u001b[1;32m     77\u001b[0m \u001b[0;32mdef\u001b[0m \u001b[0mconv\u001b[0m\u001b[0;34m(\u001b[0m\u001b[0mx\u001b[0m\u001b[0;34m,\u001b[0m\u001b[0mw\u001b[0m\u001b[0;34m,\u001b[0m\u001b[0mb\u001b[0m\u001b[0;34m,\u001b[0m\u001b[0mname\u001b[0m\u001b[0;34m,\u001b[0m\u001b[0mk_c\u001b[0m\u001b[0;34m=\u001b[0m\u001b[0;36m1\u001b[0m\u001b[0;34m,\u001b[0m\u001b[0;34m**\u001b[0m\u001b[0mkwargs\u001b[0m\u001b[0;34m)\u001b[0m\u001b[0;34m:\u001b[0m\u001b[0;34m\u001b[0m\u001b[0m\n\u001b[1;32m     78\u001b[0m     \u001b[0;31m# Convolution\u001b[0m\u001b[0;34m\u001b[0m\u001b[0;34m\u001b[0m\u001b[0m\n\u001b[0;32m---> 79\u001b[0;31m     \u001b[0;32mreturn\u001b[0m \u001b[0mconv2d\u001b[0m\u001b[0;34m(\u001b[0m\u001b[0mx\u001b[0m\u001b[0;34m,\u001b[0m\u001b[0mw\u001b[0m\u001b[0;34m,\u001b[0m \u001b[0mb\u001b[0m\u001b[0;34m,\u001b[0m\u001b[0mk\u001b[0m\u001b[0;34m=\u001b[0m\u001b[0mk_c\u001b[0m\u001b[0;34m)\u001b[0m\u001b[0;34m\u001b[0m\u001b[0m\n\u001b[0m\u001b[1;32m     80\u001b[0m \u001b[0;34m\u001b[0m\u001b[0m\n\u001b[1;32m     81\u001b[0m \u001b[0;32mdef\u001b[0m \u001b[0mfc\u001b[0m\u001b[0;34m(\u001b[0m\u001b[0mx\u001b[0m\u001b[0;34m,\u001b[0m\u001b[0mw\u001b[0m\u001b[0;34m,\u001b[0m\u001b[0mb\u001b[0m\u001b[0;34m,\u001b[0m\u001b[0mname\u001b[0m\u001b[0;34m,\u001b[0m\u001b[0mk_c\u001b[0m\u001b[0;34m=\u001b[0m\u001b[0;36m1\u001b[0m\u001b[0;34m,\u001b[0m\u001b[0mk_p\u001b[0m\u001b[0;34m=\u001b[0m\u001b[0;36m2\u001b[0m\u001b[0;34m,\u001b[0m\u001b[0;34m**\u001b[0m\u001b[0mkwargs\u001b[0m\u001b[0;34m)\u001b[0m\u001b[0;34m:\u001b[0m\u001b[0;34m\u001b[0m\u001b[0m\n",
      "\u001b[0;32m<ipython-input-1-8efa2ca65e5c>\u001b[0m in \u001b[0;36mconv2d\u001b[0;34m(x, w, b, k)\u001b[0m\n\u001b[1;32m     71\u001b[0m \u001b[0;34m\u001b[0m\u001b[0m\n\u001b[1;32m     72\u001b[0m \u001b[0;32mdef\u001b[0m \u001b[0mconv2d\u001b[0m\u001b[0;34m(\u001b[0m\u001b[0mx\u001b[0m\u001b[0;34m,\u001b[0m \u001b[0mw\u001b[0m\u001b[0;34m,\u001b[0m \u001b[0mb\u001b[0m\u001b[0;34m,\u001b[0m \u001b[0mk\u001b[0m\u001b[0;34m=\u001b[0m\u001b[0;36m1\u001b[0m\u001b[0;34m)\u001b[0m\u001b[0;34m:\u001b[0m\u001b[0;34m\u001b[0m\u001b[0m\n\u001b[0;32m---> 73\u001b[0;31m     \u001b[0mx\u001b[0m \u001b[0;34m=\u001b[0m \u001b[0mtf\u001b[0m\u001b[0;34m.\u001b[0m\u001b[0mnn\u001b[0m\u001b[0;34m.\u001b[0m\u001b[0mconv2d\u001b[0m\u001b[0;34m(\u001b[0m\u001b[0mx\u001b[0m\u001b[0;34m,\u001b[0m \u001b[0mw\u001b[0m\u001b[0;34m,\u001b[0m \u001b[0mstrides\u001b[0m\u001b[0;34m=\u001b[0m\u001b[0;34m[\u001b[0m\u001b[0;36m1\u001b[0m\u001b[0;34m,\u001b[0m \u001b[0mk\u001b[0m\u001b[0;34m,\u001b[0m \u001b[0mk\u001b[0m\u001b[0;34m,\u001b[0m \u001b[0;36m1\u001b[0m\u001b[0;34m]\u001b[0m \u001b[0;34m,\u001b[0m \u001b[0mpadding\u001b[0m\u001b[0;34m=\u001b[0m\u001b[0;34m'SAME'\u001b[0m\u001b[0;34m)\u001b[0m\u001b[0;34m\u001b[0m\u001b[0m\n\u001b[0m\u001b[1;32m     74\u001b[0m     \u001b[0mx\u001b[0m \u001b[0;34m=\u001b[0m \u001b[0mtf\u001b[0m\u001b[0;34m.\u001b[0m\u001b[0mnn\u001b[0m\u001b[0;34m.\u001b[0m\u001b[0mbias_add\u001b[0m\u001b[0;34m(\u001b[0m\u001b[0mx\u001b[0m\u001b[0;34m,\u001b[0m \u001b[0mb\u001b[0m\u001b[0;34m)\u001b[0m\u001b[0;34m\u001b[0m\u001b[0m\n\u001b[1;32m     75\u001b[0m     \u001b[0;32mreturn\u001b[0m \u001b[0mtf\u001b[0m\u001b[0;34m.\u001b[0m\u001b[0mnn\u001b[0m\u001b[0;34m.\u001b[0m\u001b[0mrelu\u001b[0m\u001b[0;34m(\u001b[0m\u001b[0mx\u001b[0m\u001b[0;34m)\u001b[0m\u001b[0;34m\u001b[0m\u001b[0m\n",
      "\u001b[0;32m/Library/Frameworks/Python.framework/Versions/3.5/lib/python3.5/site-packages/tensorflow/python/ops/gen_nn_ops.py\u001b[0m in \u001b[0;36mconv2d\u001b[0;34m(input, filter, strides, padding, use_cudnn_on_gpu, data_format, name)\u001b[0m\n\u001b[1;32m    392\u001b[0m                                 \u001b[0mstrides\u001b[0m\u001b[0;34m=\u001b[0m\u001b[0mstrides\u001b[0m\u001b[0;34m,\u001b[0m \u001b[0mpadding\u001b[0m\u001b[0;34m=\u001b[0m\u001b[0mpadding\u001b[0m\u001b[0;34m,\u001b[0m\u001b[0;34m\u001b[0m\u001b[0m\n\u001b[1;32m    393\u001b[0m                                 \u001b[0muse_cudnn_on_gpu\u001b[0m\u001b[0;34m=\u001b[0m\u001b[0muse_cudnn_on_gpu\u001b[0m\u001b[0;34m,\u001b[0m\u001b[0;34m\u001b[0m\u001b[0m\n\u001b[0;32m--> 394\u001b[0;31m                                 data_format=data_format, name=name)\n\u001b[0m\u001b[1;32m    395\u001b[0m   \u001b[0;32mreturn\u001b[0m \u001b[0mresult\u001b[0m\u001b[0;34m\u001b[0m\u001b[0m\n\u001b[1;32m    396\u001b[0m \u001b[0;34m\u001b[0m\u001b[0m\n",
      "\u001b[0;32m/Library/Frameworks/Python.framework/Versions/3.5/lib/python3.5/site-packages/tensorflow/python/framework/op_def_library.py\u001b[0m in \u001b[0;36mapply_op\u001b[0;34m(self, op_type_name, name, **keywords)\u001b[0m\n\u001b[1;32m    747\u001b[0m           op = g.create_op(op_type_name, inputs, output_types, name=scope,\n\u001b[1;32m    748\u001b[0m                            \u001b[0minput_types\u001b[0m\u001b[0;34m=\u001b[0m\u001b[0minput_types\u001b[0m\u001b[0;34m,\u001b[0m \u001b[0mattrs\u001b[0m\u001b[0;34m=\u001b[0m\u001b[0mattr_protos\u001b[0m\u001b[0;34m,\u001b[0m\u001b[0;34m\u001b[0m\u001b[0m\n\u001b[0;32m--> 749\u001b[0;31m                            op_def=op_def)\n\u001b[0m\u001b[1;32m    750\u001b[0m           \u001b[0moutputs\u001b[0m \u001b[0;34m=\u001b[0m \u001b[0mop\u001b[0m\u001b[0;34m.\u001b[0m\u001b[0moutputs\u001b[0m\u001b[0;34m\u001b[0m\u001b[0m\n\u001b[1;32m    751\u001b[0m           return _Restructure(ops.convert_n_to_tensor(outputs),\n",
      "\u001b[0;32m/Library/Frameworks/Python.framework/Versions/3.5/lib/python3.5/site-packages/tensorflow/python/framework/ops.py\u001b[0m in \u001b[0;36mcreate_op\u001b[0;34m(self, op_type, inputs, dtypes, input_types, name, attrs, op_def, compute_shapes, compute_device)\u001b[0m\n\u001b[1;32m   2380\u001b[0m                     original_op=self._default_original_op, op_def=op_def)\n\u001b[1;32m   2381\u001b[0m     \u001b[0;32mif\u001b[0m \u001b[0mcompute_shapes\u001b[0m\u001b[0;34m:\u001b[0m\u001b[0;34m\u001b[0m\u001b[0m\n\u001b[0;32m-> 2382\u001b[0;31m       \u001b[0mset_shapes_for_outputs\u001b[0m\u001b[0;34m(\u001b[0m\u001b[0mret\u001b[0m\u001b[0;34m)\u001b[0m\u001b[0;34m\u001b[0m\u001b[0m\n\u001b[0m\u001b[1;32m   2383\u001b[0m     \u001b[0mself\u001b[0m\u001b[0;34m.\u001b[0m\u001b[0m_add_op\u001b[0m\u001b[0;34m(\u001b[0m\u001b[0mret\u001b[0m\u001b[0;34m)\u001b[0m\u001b[0;34m\u001b[0m\u001b[0m\n\u001b[1;32m   2384\u001b[0m     \u001b[0mself\u001b[0m\u001b[0;34m.\u001b[0m\u001b[0m_record_op_seen_by_control_dependencies\u001b[0m\u001b[0;34m(\u001b[0m\u001b[0mret\u001b[0m\u001b[0;34m)\u001b[0m\u001b[0;34m\u001b[0m\u001b[0m\n",
      "\u001b[0;32m/Library/Frameworks/Python.framework/Versions/3.5/lib/python3.5/site-packages/tensorflow/python/framework/ops.py\u001b[0m in \u001b[0;36mset_shapes_for_outputs\u001b[0;34m(op)\u001b[0m\n\u001b[1;32m   1781\u001b[0m       raise RuntimeError(\"No shape function registered for standard op: %s\"\n\u001b[1;32m   1782\u001b[0m                          % op.type)\n\u001b[0;32m-> 1783\u001b[0;31m   \u001b[0mshapes\u001b[0m \u001b[0;34m=\u001b[0m \u001b[0mshape_func\u001b[0m\u001b[0;34m(\u001b[0m\u001b[0mop\u001b[0m\u001b[0;34m)\u001b[0m\u001b[0;34m\u001b[0m\u001b[0m\n\u001b[0m\u001b[1;32m   1784\u001b[0m   \u001b[0;32mif\u001b[0m \u001b[0mshapes\u001b[0m \u001b[0;32mis\u001b[0m \u001b[0;32mNone\u001b[0m\u001b[0;34m:\u001b[0m\u001b[0;34m\u001b[0m\u001b[0m\n\u001b[1;32m   1785\u001b[0m     raise RuntimeError(\n",
      "\u001b[0;32m/Library/Frameworks/Python.framework/Versions/3.5/lib/python3.5/site-packages/tensorflow/python/framework/common_shapes.py\u001b[0m in \u001b[0;36mcall_cpp_shape_fn\u001b[0;34m(op, input_tensors_needed, debug_python_shape_fn)\u001b[0m\n\u001b[1;32m    594\u001b[0m                                                              status)\n\u001b[1;32m    595\u001b[0m   \u001b[0;32mexcept\u001b[0m \u001b[0merrors\u001b[0m\u001b[0;34m.\u001b[0m\u001b[0mInvalidArgumentError\u001b[0m \u001b[0;32mas\u001b[0m \u001b[0merr\u001b[0m\u001b[0;34m:\u001b[0m\u001b[0;34m\u001b[0m\u001b[0m\n\u001b[0;32m--> 596\u001b[0;31m     \u001b[0;32mraise\u001b[0m \u001b[0mValueError\u001b[0m\u001b[0;34m(\u001b[0m\u001b[0merr\u001b[0m\u001b[0;34m.\u001b[0m\u001b[0mmessage\u001b[0m\u001b[0;34m)\u001b[0m\u001b[0;34m\u001b[0m\u001b[0m\n\u001b[0m\u001b[1;32m    597\u001b[0m \u001b[0;34m\u001b[0m\u001b[0m\n\u001b[1;32m    598\u001b[0m   \u001b[0;31m# Convert TensorShapeProto values in output_shapes.\u001b[0m\u001b[0;34m\u001b[0m\u001b[0;34m\u001b[0m\u001b[0m\n",
      "\u001b[0;31mValueError\u001b[0m: Dimensions must be equal, but are 4 and 8"
     ]
    }
   ],
   "source": [
    "train_layer(\"min_deep_5\",min_deep_5)"
   ]
  },
  {
   "cell_type": "code",
   "execution_count": 9,
   "metadata": {
    "collapsed": false
   },
   "outputs": [
    {
     "name": "stdout",
     "output_type": "stream",
     "text": [
      "Writing to: /tmp/mnist_logs/layer_std20161202-211729\n",
      "Epoch 1 out of 3 / Loss: 243.785580625\n",
      "Accuracy: 0.9702\n",
      "Epoch 2 out of 3 / Loss: 47.4891263249\n",
      "Accuracy: 0.9856\n",
      "Epoch 3 out of 3 / Loss: 31.0756102614\n",
      "Accuracy: 0.9874\n",
      "Training finished!\n",
      "Writing to: /tmp/mnist_logs/layers_deep20161202-214140\n",
      "Epoch 1 out of 3 / Loss: 220.648349631\n",
      "Accuracy: 0.9839\n",
      "Epoch 2 out of 3 / Loss: 57.6456857131\n",
      "Accuracy: 0.9848\n",
      "Epoch 3 out of 3 / Loss: 43.3919358567\n",
      "Accuracy: 0.9855\n",
      "Training finished!\n"
     ]
    },
    {
     "data": {
      "text/plain": [
       "[None, None]"
      ]
     },
     "execution_count": 9,
     "metadata": {},
     "output_type": "execute_result"
    }
   ],
   "source": [
    "train_layers(layers)"
   ]
  },
  {
   "cell_type": "code",
   "execution_count": 14,
   "metadata": {
    "collapsed": false
   },
   "outputs": [
    {
     "data": {
      "text/plain": [
       "[('layer_std',\n",
       "  [{'b': [32],\n",
       "    'fn': 'conv',\n",
       "    'name': 'c1',\n",
       "    'post': [('relu',), ('maxpool2d',)],\n",
       "    'w': [5, 5, 1, 32]},\n",
       "   {'b': [64],\n",
       "    'fn': 'conv',\n",
       "    'name': 'c2',\n",
       "    'post': [('relu',), ('maxpool2d',)],\n",
       "    'w': [5, 5, 32, 64]},\n",
       "   {'b': [1024],\n",
       "    'fn': 'fc',\n",
       "    'name': 'd1',\n",
       "    'post': [('relu',)],\n",
       "    'w': [3136, 1024]},\n",
       "   {'b': [10], 'fn': 'fc', 'name': 'out', 'w': [1024, 10]}]),\n",
       " ('layers_deep',\n",
       "  [{'b': [32],\n",
       "    'fn': 'conv',\n",
       "    'name': 'c1',\n",
       "    'post': [('relu',), ('maxpool2d',)],\n",
       "    'w': [5, 5, 1, 32]},\n",
       "   {'b': [64],\n",
       "    'fn': 'conv',\n",
       "    'name': 'c2',\n",
       "    'post': [('relu',), ('maxpool2d',)],\n",
       "    'w': [3, 3, 32, 64]},\n",
       "   {'b': [64],\n",
       "    'fn': 'conv',\n",
       "    'name': 'c3',\n",
       "    'post': [('relu',), ('maxpool2d',)],\n",
       "    'w': [3, 3, 64, 64]},\n",
       "   {'b': [64],\n",
       "    'fn': 'conv',\n",
       "    'name': 'c4',\n",
       "    'post': [('relu',), ('maxpool2d',)],\n",
       "    'w': [3, 3, 64, 64]},\n",
       "   {'b': [1024],\n",
       "    'fn': 'fc',\n",
       "    'name': 'd1',\n",
       "    'post': [('relu',)],\n",
       "    'w': [3136, 1024]},\n",
       "   {'b': [10], 'fn': 'fc', 'name': 'out', 'w': [1024, 10]}])]"
      ]
     },
     "execution_count": 14,
     "metadata": {},
     "output_type": "execute_result"
    }
   ],
   "source": [
    "[(k,v) for (k,v) in layers.items()]"
   ]
  },
  {
   "cell_type": "code",
   "execution_count": 6,
   "metadata": {
    "collapsed": false,
    "scrolled": false
   },
   "outputs": [
    {
     "name": "stdout",
     "output_type": "stream",
     "text": [
      "Epoch 1 out of 3 / Loss: 241.791304823\n",
      "Accuracy: 0.9641\n",
      "Epoch 2 out of 3 / Loss: 50.770959126\n",
      "Accuracy: 0.9886\n",
      "Epoch 3 out of 3 / Loss: 32.847308922\n",
      "Accuracy: 0.9884\n",
      "Training finished!\n"
     ]
    }
   ],
   "source": [
    "train_and_test_conv_neural_net(x,y,pred,**{**FLAGS, 'epochs': 3})"
   ]
  },
  {
   "cell_type": "markdown",
   "metadata": {},
   "source": [
    "## Misc Legacy Snippets\n",
    "please ignore"
   ]
  },
  {
   "cell_type": "code",
   "execution_count": 1,
   "metadata": {
    "collapsed": true
   },
   "outputs": [],
   "source": [
    "# modules:\n",
    "def inputs():\n",
    "    pass\n",
    "    \n",
    "def inference():\n",
    "    pass\n",
    "    \n",
    "def loss():\n",
    "    pass\n",
    "\n",
    "def train():\n",
    "    pass\n",
    "\n",
    "def weight_variable(shape):\n",
    "    \"\"\"Create a weight variable with appropriate initialization.\"\"\"\n",
    "    initial = tf.truncated_normal(shape, stddev=0.1)\n",
    "    return tf.Variable(initial)\n",
    "\n",
    "def bias_variable(shape):\n",
    "    \"\"\"Create a bias variable with appropriate initialization.\"\"\"\n",
    "    initial = tf.constant(0.1, shape=shape)\n",
    "    return tf.Variable(initial)\n",
    "\n",
    "def variable_summaries(var, name):\n",
    "    \"\"\"Attach a lot of summaries to a Tensor.\"\"\"\n",
    "    with tf.name_scope('summaries'):\n",
    "      mean = tf.reduce_mean(var)\n",
    "      tf.scalar_summary('mean/' + name, mean)\n",
    "      with tf.name_scope('stddev'):\n",
    "        stddev = tf.sqrt(tf.reduce_mean(tf.square(var - mean)))\n",
    "      tf.scalar_summary('stddev/' + name, stddev)\n",
    "      tf.scalar_summary('max/' + name, tf.reduce_max(var))\n",
    "      tf.scalar_summary('min/' + name, tf.reduce_min(var))\n",
    "      tf.histogram_summary(name, var)\n",
    "\n",
    "def nn_layer(input_tensor, input_dim, output_dim, layer_name, act=tf.nn.relu):\n",
    "    \"\"\"Reusable code for making a simple neural net layer.\n",
    "\n",
    "    It does a matrix multiply, bias add, and then uses relu to nonlinearize.\n",
    "    It also sets up name scoping so that the resultant graph is easy to read,\n",
    "    and adds a number of summary ops.\n",
    "    \"\"\"\n",
    "    # Adding a name scope ensures logical grouping of the layers in the graph.\n",
    "    with tf.name_scope(layer_name):\n",
    "      # This Variable will hold the state of the weights for the layer\n",
    "      with tf.name_scope('weights'):\n",
    "        weights = weight_variable([input_dim, output_dim])\n",
    "        variable_summaries(weights, layer_name + '/weights')\n",
    "      with tf.name_scope('biases'):\n",
    "        biases = bias_variable([output_dim])\n",
    "        variable_summaries(biases, layer_name + '/biases')\n",
    "      with tf.name_scope('Wx_plus_b'):\n",
    "        preactivate = tf.matmul(input_tensor, weights) + biases\n",
    "        tf.histogram_summary(layer_name + '/pre_activations', preactivate)\n",
    "      activations = act(preactivate, name='activation')\n",
    "      tf.histogram_summary(layer_name + '/activations', activations)\n",
    "      return activations\n",
    "\n",
    "def train():\n",
    "  # Import data\n",
    "  mnist = input_data.read_data_sets(FLAGS.data_dir,\n",
    "                                    one_hot=True,\n",
    "                                    fake_data=FLAGS.fake_data)\n",
    "\n",
    "  sess = tf.InteractiveSession()\n",
    "\n",
    "  # Create a multilayer model.\n",
    "\n",
    "  # Input placeholders\n",
    "  with tf.name_scope('input'):\n",
    "    x = tf.placeholder(tf.float32, [None, 784], name='x-input')\n",
    "    y_ = tf.placeholder(tf.float32, [None, 10], name='y-input')\n",
    "\n",
    "  with tf.name_scope('input_reshape'):\n",
    "    image_shaped_input = tf.reshape(x, [-1, 28, 28, 1])\n",
    "    tf.image_summary('input', image_shaped_input, 10)\n",
    "\n",
    "  \n",
    "\n",
    "  hidden1 = nn_layer(x, 784, 500, 'layer1')\n",
    "\n",
    "  with tf.name_scope('dropout'):\n",
    "    keep_prob = tf.placeholder(tf.float32)\n",
    "    tf.scalar_summary('dropout_keep_probability', keep_prob)\n",
    "    dropped = tf.nn.dropout(hidden1, keep_prob)\n",
    "\n",
    "  # Do not apply softmax activation yet, see below.\n",
    "  y = nn_layer(dropped, 500, 10, 'layer2', act=tf.identity)\n",
    "\n",
    "  with tf.name_scope('cross_entropy'):\n",
    "    # The raw formulation of cross-entropy,\n",
    "    #\n",
    "    # tf.reduce_mean(-tf.reduce_sum(y_ * tf.log(tf.softmax(y)),\n",
    "    #                               reduction_indices=[1]))\n",
    "    #\n",
    "    # can be numerically unstable.\n",
    "    #\n",
    "    # So here we use tf.nn.softmax_cross_entropy_with_logits on the\n",
    "    # raw outputs of the nn_layer above, and then average across\n",
    "    # the batch.\n",
    "    diff = tf.nn.softmax_cross_entropy_with_logits(y, y_)\n",
    "    with tf.name_scope('total'):\n",
    "      cross_entropy = tf.reduce_mean(diff)\n",
    "    tf.scalar_summary('cross entropy', cross_entropy)\n",
    "\n",
    "  with tf.name_scope('train'):\n",
    "    train_step = tf.train.AdamOptimizer(FLAGS.learning_rate).minimize(\n",
    "        cross_entropy)\n",
    "\n",
    "  with tf.name_scope('accuracy'):\n",
    "    with tf.name_scope('correct_prediction'):\n",
    "      correct_prediction = tf.equal(tf.argmax(y, 1), tf.argmax(y_, 1))\n",
    "    with tf.name_scope('accuracy'):\n",
    "      accuracy = tf.reduce_mean(tf.cast(correct_prediction, tf.float32))\n",
    "    tf.scalar_summary('accuracy', accuracy)\n",
    "\n",
    "  # Merge all the summaries and write them out to /tmp/mnist_logs (by default)\n",
    "  merged = tf.merge_all_summaries()\n",
    "  train_writer = tf.train.SummaryWriter(FLAGS.summaries_dir + '/train',\n",
    "                                        sess.graph)\n",
    "  test_writer = tf.train.SummaryWriter(FLAGS.summaries_dir + '/test')\n",
    "  tf.initialize_all_variables().run()\n",
    "\n",
    "  # Train the model, and also write summaries.\n",
    "  # Every 10th step, measure test-set accuracy, and write test summaries\n",
    "  # All other steps, run train_step on training data, & add training summaries\n",
    "\n",
    "  def feed_dict(train):\n",
    "    \"\"\"Make a TensorFlow feed_dict: maps data onto Tensor placeholders.\"\"\"\n",
    "    if train or FLAGS.fake_data:\n",
    "      xs, ys = mnist.train.next_batch(100, fake_data=FLAGS.fake_data)\n",
    "      k = FLAGS.dropout\n",
    "    else:\n",
    "      xs, ys = mnist.test.images, mnist.test.labels\n",
    "      k = 1.0\n",
    "    return {x: xs, y_: ys, keep_prob: k}\n",
    "\n",
    "  for i in range(FLAGS.max_steps):\n",
    "    if i % 10 == 0:  # Record summaries and test-set accuracy\n",
    "      summary, acc = sess.run([merged, accuracy], feed_dict=feed_dict(False))\n",
    "      test_writer.add_summary(summary, i)\n",
    "      print('Accuracy at step %s: %s' % (i, acc))\n",
    "    else:  # Record train set summaries, and train\n",
    "      if i % 100 == 99:  # Record execution stats\n",
    "        run_options = tf.RunOptions(trace_level=tf.RunOptions.FULL_TRACE)\n",
    "        run_metadata = tf.RunMetadata()\n",
    "        summary, _ = sess.run([merged, train_step],\n",
    "                              feed_dict=feed_dict(True),\n",
    "                              options=run_options,\n",
    "                              run_metadata=run_metadata)\n",
    "        train_writer.add_run_metadata(run_metadata, 'step%03d' % i)\n",
    "        train_writer.add_summary(summary, i)\n",
    "        print('Adding run metadata for', i)\n",
    "      else:  # Record a summary\n",
    "        summary, _ = sess.run([merged, train_step], feed_dict=feed_dict(True))\n",
    "        train_writer.add_summary(summary, i)\n",
    "  train_writer.close()\n",
    "  test_writer.close()\n",
    "\n",
    "\n",
    "def main():\n",
    "  if tf.gfile.Exists(FLAGS.summaries_dir):\n",
    "    tf.gfile.DeleteRecursively(FLAGS.summaries_dir)\n",
    "  tf.gfile.MakeDirs(FLAGS.summaries_dir)\n",
    "  train()"
   ]
  },
  {
   "cell_type": "code",
   "execution_count": 2,
   "metadata": {
    "collapsed": false
   },
   "outputs": [
    {
     "name": "stdout",
     "output_type": "stream",
     "text": [
      "Extracting /tmp/data/train-images-idx3-ubyte.gz\n",
      "Extracting /tmp/data/train-labels-idx1-ubyte.gz\n",
      "Extracting /tmp/data/t10k-images-idx3-ubyte.gz\n",
      "Extracting /tmp/data/t10k-labels-idx1-ubyte.gz\n",
      "Accuracy at step 0: 0.0438\n",
      "Accuracy at step 10: 0.6836\n",
      "Accuracy at step 20: 0.8173\n",
      "Accuracy at step 30: 0.8474\n",
      "Accuracy at step 40: 0.8707\n",
      "Accuracy at step 50: 0.8793\n",
      "Accuracy at step 60: 0.8848\n",
      "Accuracy at step 70: 0.8819\n",
      "Accuracy at step 80: 0.884\n",
      "Accuracy at step 90: 0.8966\n",
      "Adding run metadata for 99\n",
      "Accuracy at step 100: 0.9085\n",
      "Accuracy at step 110: 0.9136\n",
      "Accuracy at step 120: 0.9173\n",
      "Accuracy at step 130: 0.9179\n",
      "Accuracy at step 140: 0.9208\n",
      "Accuracy at step 150: 0.9164\n",
      "Accuracy at step 160: 0.9279\n",
      "Accuracy at step 170: 0.9243\n",
      "Accuracy at step 180: 0.9224\n",
      "Accuracy at step 190: 0.9219\n",
      "Adding run metadata for 199\n",
      "Accuracy at step 200: 0.9274\n",
      "Accuracy at step 210: 0.9304\n",
      "Accuracy at step 220: 0.9347\n",
      "Accuracy at step 230: 0.9353\n",
      "Accuracy at step 240: 0.9352\n",
      "Accuracy at step 250: 0.9307\n",
      "Accuracy at step 260: 0.9332\n",
      "Accuracy at step 270: 0.9367\n",
      "Accuracy at step 280: 0.9351\n",
      "Accuracy at step 290: 0.9391\n",
      "Adding run metadata for 299\n",
      "Accuracy at step 300: 0.9428\n",
      "Accuracy at step 310: 0.94\n",
      "Accuracy at step 320: 0.9389\n",
      "Accuracy at step 330: 0.9407\n",
      "Accuracy at step 340: 0.9461\n",
      "Accuracy at step 350: 0.9437\n",
      "Accuracy at step 360: 0.9373\n",
      "Accuracy at step 370: 0.9452\n",
      "Accuracy at step 380: 0.9449\n",
      "Accuracy at step 390: 0.9438\n",
      "Adding run metadata for 399\n",
      "Accuracy at step 400: 0.9462\n",
      "Accuracy at step 410: 0.9429\n",
      "Accuracy at step 420: 0.9453\n",
      "Accuracy at step 430: 0.9438\n",
      "Accuracy at step 440: 0.951\n",
      "Accuracy at step 450: 0.949\n",
      "Accuracy at step 460: 0.9515\n",
      "Accuracy at step 470: 0.9484\n",
      "Accuracy at step 480: 0.9509\n",
      "Accuracy at step 490: 0.947\n",
      "Adding run metadata for 499\n",
      "Accuracy at step 500: 0.9525\n",
      "Accuracy at step 510: 0.9489\n",
      "Accuracy at step 520: 0.9499\n",
      "Accuracy at step 530: 0.9544\n",
      "Accuracy at step 540: 0.9554\n",
      "Accuracy at step 550: 0.9543\n",
      "Accuracy at step 560: 0.9543\n",
      "Accuracy at step 570: 0.9564\n",
      "Accuracy at step 580: 0.9539\n",
      "Accuracy at step 590: 0.9544\n",
      "Adding run metadata for 599\n",
      "Accuracy at step 600: 0.9552\n",
      "Accuracy at step 610: 0.9566\n",
      "Accuracy at step 620: 0.9553\n",
      "Accuracy at step 630: 0.9569\n",
      "Accuracy at step 640: 0.9587\n",
      "Accuracy at step 650: 0.9588\n",
      "Accuracy at step 660: 0.9606\n",
      "Accuracy at step 670: 0.9605\n",
      "Accuracy at step 680: 0.9598\n",
      "Accuracy at step 690: 0.9598\n",
      "Adding run metadata for 699\n",
      "Accuracy at step 700: 0.9607\n",
      "Accuracy at step 710: 0.958\n",
      "Accuracy at step 720: 0.9622\n",
      "Accuracy at step 730: 0.9635\n",
      "Accuracy at step 740: 0.9612\n",
      "Accuracy at step 750: 0.9629\n",
      "Accuracy at step 760: 0.9636\n",
      "Accuracy at step 770: 0.9617\n",
      "Accuracy at step 780: 0.9622\n",
      "Accuracy at step 790: 0.9628\n",
      "Adding run metadata for 799\n",
      "Accuracy at step 800: 0.9612\n",
      "Accuracy at step 810: 0.9626\n",
      "Accuracy at step 820: 0.9628\n",
      "Accuracy at step 830: 0.9637\n",
      "Accuracy at step 840: 0.9628\n",
      "Accuracy at step 850: 0.9633\n",
      "Accuracy at step 860: 0.964\n",
      "Accuracy at step 870: 0.9627\n",
      "Accuracy at step 880: 0.9638\n",
      "Accuracy at step 890: 0.9624\n",
      "Adding run metadata for 899\n",
      "Accuracy at step 900: 0.965\n",
      "Accuracy at step 910: 0.9646\n",
      "Accuracy at step 920: 0.9649\n",
      "Accuracy at step 930: 0.9659\n",
      "Accuracy at step 940: 0.9653\n",
      "Accuracy at step 950: 0.9658\n",
      "Accuracy at step 960: 0.966\n",
      "Accuracy at step 970: 0.9657\n",
      "Accuracy at step 980: 0.9656\n",
      "Accuracy at step 990: 0.9653\n",
      "Adding run metadata for 999\n"
     ]
    }
   ],
   "source": [
    "main()"
   ]
  }
 ],
 "metadata": {
  "kernelspec": {
   "display_name": "Python 3",
   "language": "python",
   "name": "python3"
  },
  "language_info": {
   "codemirror_mode": {
    "name": "ipython",
    "version": 3
   },
   "file_extension": ".py",
   "mimetype": "text/x-python",
   "name": "python",
   "nbconvert_exporter": "python",
   "pygments_lexer": "ipython3",
   "version": "3.5.2"
  }
 },
 "nbformat": 4,
 "nbformat_minor": 1
}
